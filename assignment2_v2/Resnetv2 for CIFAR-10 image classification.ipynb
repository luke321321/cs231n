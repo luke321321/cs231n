{
 "cells": [
  {
   "cell_type": "code",
   "execution_count": 61,
   "metadata": {},
   "outputs": [],
   "source": [
    "import os\n",
    "import tensorflow as tf\n",
    "import numpy as np\n",
    "import math\n",
    "import matplotlib.pyplot as plt\n",
    "from tqdm import tnrange, tqdm_notebook\n",
    "\n",
    "%matplotlib inline"
   ]
  },
  {
   "cell_type": "markdown",
   "metadata": {},
   "source": [
    "Import the data"
   ]
  },
  {
   "cell_type": "code",
   "execution_count": 62,
   "metadata": {},
   "outputs": [
    {
     "name": "stdout",
     "output_type": "stream",
     "text": [
      "Train data shape:  (49000, 40, 40, 3)\n",
      "Train labels shape:  (49000,) int32\n",
      "Validation data shape:  (1000, 40, 40, 3)\n",
      "Validation labels shape:  (1000,)\n",
      "Test data shape:  (10000, 40, 40, 3)\n",
      "Test labels shape:  (10000,)\n"
     ]
    }
   ],
   "source": [
    "def load_cifar10(num_training=49000, num_validation=1000, num_test=10000):\n",
    "    \"\"\"\n",
    "    Fetch the CIFAR-10 dataset from the web and perform preprocessing to prepare\n",
    "    it.  We pad the training data here for the data augmentation\n",
    "    \"\"\"\n",
    "    # Load the raw CIFAR-10 dataset and use appropriate data types and shapes\n",
    "    cifar10 = tf.keras.datasets.cifar10.load_data()\n",
    "    (X_train, y_train), (X_test, y_test) = cifar10\n",
    "    X_train = np.asarray(X_train, dtype=np.float32)\n",
    "    y_train = np.asarray(y_train, dtype=np.int32).flatten()\n",
    "    X_test = np.asarray(X_test, dtype=np.float32)\n",
    "    y_test = np.asarray(y_test, dtype=np.int32).flatten()\n",
    "\n",
    "    # Subsample the data\n",
    "    mask = range(num_training, num_training + num_validation)\n",
    "    X_val = X_train[mask]\n",
    "    y_val = y_train[mask]\n",
    "    mask = range(num_training)\n",
    "    X_train = X_train[mask]\n",
    "    y_train = y_train[mask]\n",
    "    mask = range(num_test)\n",
    "    X_test = X_test[mask]\n",
    "    y_test = y_test[mask]\n",
    "\n",
    "    # Normalize the data: subtract the mean pixel and divide by std\n",
    "    mean_pixel = X_train.mean(axis=(0, 1, 2), keepdims=True)\n",
    "    std_pixel = X_train.std(axis=(0, 1, 2), keepdims=True)\n",
    "    X_train = (X_train - mean_pixel) / std_pixel\n",
    "    X_val = (X_val - mean_pixel) / std_pixel\n",
    "    X_test = (X_test - mean_pixel) / std_pixel\n",
    "    \n",
    "    #Pad the data by 4 on height and width\n",
    "    paddings = [[0, 0,], [4, 4], [4, 4], [0, 0]]\n",
    "    X_train = np.pad(X_train, paddings, 'constant')\n",
    "    X_val = np.pad(X_val, paddings, 'constant')\n",
    "    X_test = np.pad(X_test, paddings, 'constant')\n",
    "    \n",
    "    return X_train, y_train, X_val, y_val, X_test, y_test\n",
    "\n",
    "\n",
    "# Invoke the above function to get our data.\n",
    "X_train, y_train, X_val, y_val, X_test, y_test = load_cifar10()\n",
    "print('Train data shape: ', X_train.shape)\n",
    "print('Train labels shape: ', y_train.shape, y_train.dtype)\n",
    "print('Validation data shape: ', X_val.shape)\n",
    "print('Validation labels shape: ', y_val.shape)\n",
    "print('Test data shape: ', X_test.shape)\n",
    "print('Test labels shape: ', y_test.shape)"
   ]
  },
  {
   "cell_type": "markdown",
   "metadata": {},
   "source": [
    "Create a basic dataset object"
   ]
  },
  {
   "cell_type": "code",
   "execution_count": 63,
   "metadata": {},
   "outputs": [],
   "source": [
    "class Dataset(object):\n",
    "    def __init__(self, X, y, batch_size, shuffle=False):\n",
    "        \"\"\"\n",
    "        Construct a Dataset object to iterate over data X and labels y\n",
    "        \n",
    "        Inputs:\n",
    "        - X: Numpy array of data, of any shape\n",
    "        - y: Numpy array of labels, of any shape but with y.shape[0] == X.shape[0]\n",
    "        - batch_size: Integer giving number of elements per minibatch\n",
    "        - shuffle: (optional) Boolean, whether to shuffle the data on each epoch\n",
    "        \"\"\"\n",
    "        assert X.shape[0] == y.shape[0], 'Got different numbers of data and labels'\n",
    "        self.X, self.y = X, y\n",
    "        self.batch_size, self.shuffle = batch_size, shuffle\n",
    "\n",
    "    def __iter__(self):\n",
    "        N, B = self.X.shape[0], self.batch_size\n",
    "        idxs = np.arange(N)\n",
    "        X = self.X\n",
    "        if self.shuffle:\n",
    "            np.random.shuffle(idxs)\n",
    "            \n",
    "        return iter((X[i:i+B], self.y[i:i+B]) for i in range(0, N, B))\n",
    "    \n",
    "    def __len__(self):\n",
    "        return len(self.y) // self.batch_size\n",
    "    \n",
    "\n",
    "batch_size = 64\n",
    "train_dset = Dataset(X_train, y_train, batch_size=batch_size, shuffle=True)\n",
    "val_dset = Dataset(X_val, y_val, batch_size=batch_size, shuffle=False)\n",
    "test_dset = Dataset(X_test, y_test, batch_size=batch_size)"
   ]
  },
  {
   "cell_type": "markdown",
   "metadata": {},
   "source": [
    "Create our neutral network"
   ]
  },
  {
   "cell_type": "code",
   "execution_count": 64,
   "metadata": {},
   "outputs": [],
   "source": [
    "initializer = tf.contrib.layers.variance_scaling_initializer()\n",
    "\n",
    "#Helper layer function\n",
    "def batch_norm_relu_conv2d_drop(inputs, filters, is_training, dropout, stride=1, reg=1e-2):\n",
    "    inputs = tf.layers.batch_normalization(inputs, training = is_training)\n",
    "    inputs = tf.nn.relu(inputs)\n",
    "    inputs = tf.layers.conv2d(inputs, filters, 3, strides=stride, padding=\"same\", kernel_initializer=initializer,\n",
    "                           kernel_regularizer=tf.keras.regularizers.l2(l=reg))\n",
    "    if dropout is not None:\n",
    "        inputs = tf.nn.dropout(inputs, keep_prob=dropout)\n",
    "    return inputs\n",
    "\n",
    "def subsample_conv2d(inputs, filters, is_training, stride=2, reg=1e-2):\n",
    "    return tf.layers.conv2d(inputs, filters, 3, strides=stride, padding=\"same\", kernel_initializer=initializer,\n",
    "                            kernel_regularizer=tf.keras.regularizers.l2(l=reg))\n",
    "\n",
    "#Resnet unit\n",
    "def ResNet_unit(inputs, filters, is_training, dropout, i, j, subsample=False, reg=1e-2):\n",
    "    with tf.variable_scope(f\"conv{i+2}_{j+1}\"):\n",
    "        shortcut = inputs\n",
    "        stride = 2 if subsample else 1\n",
    "        \n",
    "        inputs = batch_norm_relu_conv2d_drop(inputs, filters, is_training, dropout, stride=stride, reg=reg)\n",
    "        inputs = batch_norm_relu_conv2d_drop(inputs, filters, is_training, dropout, reg=reg)\n",
    "        \n",
    "        if subsample:\n",
    "            paddings = tf.constant([[0,0], [0,0], [0,0], [0, filters // 2]])\n",
    "            shortcut = tf.pad(shortcut, paddings)\n",
    "            #reduce image height and width by striding as in resnet paper\n",
    "            shortcut = shortcut[:, ::2, ::2, :]\n",
    "    \n",
    "        return shortcut + inputs\n",
    "    \n",
    "def model_ResNetv2(inputs, is_training, total_layers=20, dropout=None, num_classes=10, reg=1e-2):\n",
    "    num_layers = (total_layers - 2) // 6\n",
    "    filters = [16, 32, 64]\n",
    "    if dropout == 1: dropout = None\n",
    "    \n",
    "    with tf.variable_scope(\"data_augmentation\"):\n",
    "        if is_training == True:\n",
    "            inputs = tf.image.random_flip_left_right(inputs)\n",
    "\n",
    "            #random crop back to 32x32 (training data padded when preprocessed)\n",
    "            inputs = tf.random_crop(inputs, [inputs.shape[0], 32, 32, 3])\n",
    "        else:\n",
    "            #central crop back to 32x32\n",
    "            inputs = inputs[:, 4:36, 4:36, :]\n",
    "    \n",
    "    #first do a single convolution ResNet_unit with no addition\n",
    "    with tf.variable_scope(\"conv1\"):\n",
    "        inputs = batch_norm_relu_conv2d_drop(inputs, filters[0], is_training, dropout, reg=reg)\n",
    "    \n",
    "    #now some ResNet units\n",
    "    \n",
    "    for i in range(3):\n",
    "        for j in range(num_layers):\n",
    "            #don't subsample on first go round\n",
    "            subsample = i > 0 and j == 0\n",
    "            inputs = ResNet_unit(inputs, filters[i], is_training,\n",
    "                                 dropout, i, j, subsample=subsample, reg=reg)\n",
    "    \n",
    "    #Finally global average pooling, 10 way FC layer and then output to scores.\n",
    "    #Global average pooling is same as doing reduce_mean\n",
    "    inputs = tf.reduce_mean(inputs, axis=[1,2])\n",
    "    inputs = tf.layers.flatten(inputs)\n",
    "    scores = tf.layers.dense(inputs, num_classes, kernel_initializer=initializer,\n",
    "                            kernel_regularizer=tf.keras.regularizers.l2(l=reg))\n",
    "    return scores "
   ]
  },
  {
   "cell_type": "markdown",
   "metadata": {},
   "source": [
    "A small test to check that our neutral network works correctly"
   ]
  },
  {
   "cell_type": "code",
   "execution_count": 65,
   "metadata": {},
   "outputs": [
    {
     "name": "stdout",
     "output_type": "stream",
     "text": [
      "(50, 10)\n"
     ]
    }
   ],
   "source": [
    "def test_model_ResNet_fc():\n",
    "    \"\"\" A small unit test for model_ResNetv2 above. \"\"\"\n",
    "    tf.reset_default_graph()\n",
    "\n",
    "    x = tf.zeros((50, 40, 40, 3))\n",
    "    scores = model_ResNetv2(x, 1)\n",
    "        \n",
    "    with tf.Session() as sess:\n",
    "        sess.run(tf.global_variables_initializer())\n",
    "        scores_np = sess.run(scores)\n",
    "        print(scores_np.shape)\n",
    "        \n",
    "test_model_ResNet_fc()"
   ]
  },
  {
   "cell_type": "code",
   "execution_count": 66,
   "metadata": {},
   "outputs": [],
   "source": [
    "def check_acc_tb(sess, dset, x, scores, is_training, FLAG_print=True):\n",
    "    \"\"\"\n",
    "    Check accuracy on a classification model.\n",
    "    \n",
    "    Inputs:\n",
    "    - sess: A TensorFlow Session that will be used to run the graph\n",
    "    - dset: A Dataset object on which to check accuracy\n",
    "    - x: A TensorFlow placeholder Tensor where input images should be fed\n",
    "    - scores: A TensorFlow Tensor representing the scores output from the\n",
    "      model; this is the Tensor we will ask TensorFlow to evaluate.\n",
    "      \n",
    "    Returns: Accuracy of the model\n",
    "    \"\"\"\n",
    "    num_correct, num_samples = 0, 0\n",
    "    with tf.name_scope('accuracy'):\n",
    "        for x_batch, y_batch in dset:\n",
    "            feed_dict = {x: x_batch, is_training: 0}\n",
    "            scores_np = sess.run(scores, feed_dict=feed_dict)\n",
    "            y_pred = scores_np.argmax(axis=1)\n",
    "            num_samples += x_batch.shape[0]\n",
    "            num_correct += (y_pred == y_batch).sum()\n",
    "        acc = float(num_correct) / num_samples\n",
    "        if FLAG_print == True:\n",
    "            print('Got %d / %d correct (%.2f%%)' % (num_correct, num_samples, 100 * acc))\n",
    "    return acc"
   ]
  },
  {
   "cell_type": "code",
   "execution_count": 67,
   "metadata": {},
   "outputs": [],
   "source": [
    "def check_acc_train(sess, x_batch, y_batch, x, scores, is_training, FLAG_print=True):\n",
    "    \"\"\"\n",
    "    Check accuracy on a classification model from a batch of data.\n",
    "    \n",
    "    Inputs:\n",
    "    - sess: A TensorFlow Session that will be used to run the graph\n",
    "    - dset: A Dataset object on which to check accuracy\n",
    "    - x: A TensorFlow placeholder Tensor where input images should be fed\n",
    "    - scores: A TensorFlow Tensor representing the scores output from the\n",
    "      model; this is the Tensor we will ask TensorFlow to evaluate.\n",
    "      \n",
    "    Returns: Accuracy of the model\n",
    "    \"\"\"\n",
    "    num_correct, num_samples = 0, 0\n",
    "    with tf.name_scope('accuracy'):\n",
    "        feed_dict = {x: x_batch, is_training: 0}\n",
    "        scores_np = sess.run(scores, feed_dict=feed_dict)\n",
    "        y_pred = scores_np.argmax(axis=1)\n",
    "        acc = float((y_pred == y_batch).sum()) / x_batch.shape[0]\n",
    "        if FLAG_print == True:\n",
    "            print('Got %d / %d correct (%.2f%%)' % (num_correct, num_samples, 100 * acc))\n",
    "    return acc"
   ]
  },
  {
   "cell_type": "code",
   "execution_count": 68,
   "metadata": {},
   "outputs": [],
   "source": [
    "def train_part5(model_init_fn, optimizer_init_fn, num_epochs=1, decay_at=None, decay_to=None,\n",
    "                experiment_name=\"\", restore=False, epoch_num=1):\n",
    "    \"\"\"\n",
    "    Simple training loop for use with models defined using tf.keras. It trains\n",
    "    a model for one epoch on the CIFAR-10 training set and periodically checks\n",
    "    accuracy on the CIFAR-10 validation set.\n",
    "    \n",
    "    Inputs:\n",
    "    - model_init_fn: A function that takes no parameters; when called it\n",
    "      constructs the model we want to train: model = model_init_fn()\n",
    "    - optimizer_init_fn: A function which takes no parameters; when called it\n",
    "      constructs the Optimizer object we will use to optimize the model:\n",
    "      optimizer = optimizer_init_fn()\n",
    "    - num_epochs: The number of epochs to train for\n",
    "    - decay_at: Epochs to decay the learning rate\n",
    "    - decay_by: new_learning_rate := learning_rate * decay_by\n",
    "    \n",
    "    Returns: Nothing, but prints progress during training\n",
    "    \"\"\"\n",
    "    tf.reset_default_graph()\n",
    "    \n",
    "    # declare placeholders\n",
    "    x = tf.placeholder(tf.float32, [None, 40, 40, 3])\n",
    "    y = tf.placeholder(tf.int32, [None])\n",
    "    is_training = tf.placeholder(tf.bool, name='is_training')\n",
    "\n",
    "    # Whenever you need to record the loss, feed the mean test accuracy to this placeholder\n",
    "    with tf.name_scope('error'):\n",
    "        tf_error_ph = tf.placeholder(tf.float32,shape=None, name='error_summary')\n",
    "        # Create a scalar summary object for the accuracy so it can be displayed\n",
    "        tf.summary.scalar('error', tf_error_ph)\n",
    "\n",
    "    # Use the model function to build the forward pass.\n",
    "    scores = model_init_fn(x, is_training)\n",
    "\n",
    "    # Compute the loss\n",
    "    loss = tf.nn.sparse_softmax_cross_entropy_with_logits(labels=y, logits=scores)\n",
    "    loss_reg = tf.losses.get_regularization_loss()\n",
    "    loss = tf.reduce_mean(loss) + loss_reg\n",
    "    loss_summary = tf.summary.scalar('loss', loss)\n",
    "\n",
    "    optimizer = optimizer_init_fn()\n",
    "    update_ops = tf.get_collection(tf.GraphKeys.UPDATE_OPS)\n",
    "    with tf.control_dependencies(update_ops):\n",
    "        with tf.name_scope('train'):\n",
    "            train_op = optimizer.minimize(loss)\n",
    "                \n",
    "    with tf.Session() as sess:\n",
    "        \n",
    "        #Tensorboard, merge all summaries but the error ones\n",
    "        merged = tf.summary.merge_all(scope=\"(?!error)\")\n",
    "        merged_error = tf.summary.merge_all(scope=\"(error)\")\n",
    "        \n",
    "        log_path = \"C:/tmp/logs\"\n",
    "        train_writer = tf.summary.FileWriter(log_path + '/train/' + experiment_name, sess.graph)\n",
    "        test_writer = tf.summary.FileWriter(log_path + '/test/' + experiment_name)\n",
    "        \n",
    "        sess.run(tf.global_variables_initializer())\n",
    "        saver = tf.train.Saver()\n",
    "        if restore:\n",
    "            saver.restore(sess, f\"C:/tmp/save/{experiment_name}.ckpt\")\n",
    "            print(f\"Model restored at epoch {epoch_num}.\")\n",
    "        \n",
    "        t = 0\n",
    "        for epoch in tnrange(epoch_num, num_epochs+1, leave=False):\n",
    "            print('\\nStarting epoch %d' % (epoch))\n",
    "            #decay learning rate\n",
    "            if decay_at != None and epoch in decay_at:\n",
    "                optimizer.learning_rate = decay_to[decay_at.index(epoch)]\n",
    "                print(\"Learning rate has changed to:\", optimizer.learning_rate)\n",
    "            \n",
    "            for x_np, y_np in tqdm_notebook(train_dset, leave=False):\n",
    "                feed_dict = {x: x_np, y: y_np, is_training: True}\n",
    "                summary, loss_np, _ = sess.run([merged, loss, train_op], feed_dict=feed_dict)\n",
    "                train_writer.add_summary(summary, t)\n",
    "                \n",
    "                #check_accuracy and add to tensorboard every 200 steps\n",
    "                if t % 200 == 0 or t % print_every == 0:\n",
    "                    FLAG_print=False\n",
    "                    if t % print_every == 0:\n",
    "                        print('Iteration %d, loss = %.4f' % (t, loss_np))\n",
    "                        FLAG_print=True\n",
    "                    acc_test = check_acc_tb(sess, val_dset, x, scores,\n",
    "                                            is_training, FLAG_print=FLAG_print)\n",
    "                    error_test = 1 - acc_test\n",
    "                    error_train = 1 - check_acc_train(sess, x_np, y_np, x, scores,\n",
    "                                                   is_training, FLAG_print=False)\n",
    "                    summ = sess.run(merged_error, feed_dict={tf_error_ph : error_test})\n",
    "                    test_writer.add_summary(summ, t)\n",
    "                    train_writer.add_summary(sess.run(merged_error, feed_dict={tf_error_ph : error_train}), t)\n",
    "                t += 1\n",
    "            #Save every epoch\n",
    "            save_path = saver.save(sess, f\"C:/tmp/save/{experiment_name}_epoch{epoch}.ckpt\")\n",
    "            print(\"Model saved in path: %s\" % save_path)\n",
    "                                            \n",
    "        print('\\nEnd of training, loss = %.4f' % (loss_np))\n",
    "        acc = check_acc_tb(sess, val_dset, x, scores, is_training=is_training, FLAG_print=True)\n",
    "        error_test = 1 - acc_test\n",
    "        error_train = 1 - check_acc_train(sess, x_np, y_np, x, scores,\n",
    "                                                   is_training, FLAG_print=False)\n",
    "        summ = sess.run(merged_error, feed_dict={tf_error_ph : error_test})\n",
    "        test_writer.add_summary(summ, t)\n",
    "        train_writer.add_summary(sess.run(merged_error, feed_dict={tf_error_ph : error_train}), t)\n",
    "        print()\n",
    "        \n",
    "        epoch_save = num_epochs\n",
    "        # Save the variables to disk.\n",
    "        save_path = saver.save(sess, f\"C:/tmp/save/{experiment_name}.ckpt\")\n",
    "        print(\"Model saved in path: %s\" % save_path)\n",
    "        return acc"
   ]
  },
  {
   "cell_type": "code",
   "execution_count": 9,
   "metadata": {},
   "outputs": [
    {
     "name": "stdout",
     "output_type": "stream",
     "text": [
      "\n",
      "Starting epoch 1\n"
     ]
    },
    {
     "data": {
      "application/vnd.jupyter.widget-view+json": {
       "model_id": "",
       "version_major": 2,
       "version_minor": 0
      },
      "text/plain": [
       "HBox(children=(IntProgress(value=0, max=765), HTML(value='')))"
      ]
     },
     "metadata": {},
     "output_type": "display_data"
    },
    {
     "name": "stdout",
     "output_type": "stream",
     "text": [
      "Iteration 0, loss = 6.5144\n",
      "Got 119 / 1000 correct (11.90%)\n",
      "Model saved in path: C:/tmp/save/CIFAR_ResNet20_lr0.000346252700401509_dp1_reg0.0010062125630823956_randomsearch_epoch1.ckpt\n",
      "\n",
      "Starting epoch 2\n"
     ]
    },
    {
     "data": {
      "application/vnd.jupyter.widget-view+json": {
       "model_id": "",
       "version_major": 2,
       "version_minor": 0
      },
      "text/plain": [
       "HBox(children=(IntProgress(value=0, max=765), HTML(value='')))"
      ]
     },
     "metadata": {},
     "output_type": "display_data"
    },
    {
     "name": "stdout",
     "output_type": "stream",
     "text": [
      "Model saved in path: C:/tmp/save/CIFAR_ResNet20_lr0.000346252700401509_dp1_reg0.0010062125630823956_randomsearch_epoch2.ckpt\n",
      "\n",
      "Starting epoch 3\n"
     ]
    },
    {
     "data": {
      "application/vnd.jupyter.widget-view+json": {
       "model_id": "",
       "version_major": 2,
       "version_minor": 0
      },
      "text/plain": [
       "HBox(children=(IntProgress(value=0, max=765), HTML(value='')))"
      ]
     },
     "metadata": {},
     "output_type": "display_data"
    },
    {
     "name": "stdout",
     "output_type": "stream",
     "text": [
      "Model saved in path: C:/tmp/save/CIFAR_ResNet20_lr0.000346252700401509_dp1_reg0.0010062125630823956_randomsearch_epoch3.ckpt\n",
      "\n",
      "Starting epoch 4\n"
     ]
    },
    {
     "data": {
      "application/vnd.jupyter.widget-view+json": {
       "model_id": "",
       "version_major": 2,
       "version_minor": 0
      },
      "text/plain": [
       "HBox(children=(IntProgress(value=0, max=765), HTML(value='')))"
      ]
     },
     "metadata": {},
     "output_type": "display_data"
    },
    {
     "name": "stdout",
     "output_type": "stream",
     "text": [
      "Model saved in path: C:/tmp/save/CIFAR_ResNet20_lr0.000346252700401509_dp1_reg0.0010062125630823956_randomsearch_epoch4.ckpt\n",
      "\n",
      "Starting epoch 5\n"
     ]
    },
    {
     "data": {
      "application/vnd.jupyter.widget-view+json": {
       "model_id": "",
       "version_major": 2,
       "version_minor": 0
      },
      "text/plain": [
       "HBox(children=(IntProgress(value=0, max=765), HTML(value='')))"
      ]
     },
     "metadata": {},
     "output_type": "display_data"
    },
    {
     "name": "stdout",
     "output_type": "stream",
     "text": [
      "Model saved in path: C:/tmp/save/CIFAR_ResNet20_lr0.000346252700401509_dp1_reg0.0010062125630823956_randomsearch_epoch5.ckpt\n",
      "\n",
      "End of training, loss = 1.5736\n",
      "Got 603 / 1000 correct (60.30%)\n",
      "\n",
      "Model saved in path: C:/tmp/save/CIFAR_ResNet20_lr0.000346252700401509_dp1_reg0.0010062125630823956_randomsearch.ckpt\n",
      "\n",
      "Starting epoch 1\n"
     ]
    },
    {
     "data": {
      "application/vnd.jupyter.widget-view+json": {
       "model_id": "",
       "version_major": 2,
       "version_minor": 0
      },
      "text/plain": [
       "HBox(children=(IntProgress(value=0, max=765), HTML(value='')))"
      ]
     },
     "metadata": {},
     "output_type": "display_data"
    },
    {
     "name": "stdout",
     "output_type": "stream",
     "text": [
      "Iteration 0, loss = 4.8870\n",
      "Got 79 / 1000 correct (7.90%)\n",
      "Model saved in path: C:/tmp/save/CIFAR_ResNet20_lr0.0018661241972018135_dp1_reg5.565349203416563e-05_randomsearch_epoch1.ckpt\n",
      "\n",
      "Starting epoch 2\n"
     ]
    },
    {
     "data": {
      "application/vnd.jupyter.widget-view+json": {
       "model_id": "",
       "version_major": 2,
       "version_minor": 0
      },
      "text/plain": [
       "HBox(children=(IntProgress(value=0, max=765), HTML(value='')))"
      ]
     },
     "metadata": {},
     "output_type": "display_data"
    },
    {
     "name": "stdout",
     "output_type": "stream",
     "text": [
      "Model saved in path: C:/tmp/save/CIFAR_ResNet20_lr0.0018661241972018135_dp1_reg5.565349203416563e-05_randomsearch_epoch2.ckpt\n",
      "\n",
      "Starting epoch 3\n"
     ]
    },
    {
     "data": {
      "application/vnd.jupyter.widget-view+json": {
       "model_id": "",
       "version_major": 2,
       "version_minor": 0
      },
      "text/plain": [
       "HBox(children=(IntProgress(value=0, max=765), HTML(value='')))"
      ]
     },
     "metadata": {},
     "output_type": "display_data"
    },
    {
     "name": "stdout",
     "output_type": "stream",
     "text": [
      "Model saved in path: C:/tmp/save/CIFAR_ResNet20_lr0.0018661241972018135_dp1_reg5.565349203416563e-05_randomsearch_epoch3.ckpt\n",
      "\n",
      "Starting epoch 4\n"
     ]
    },
    {
     "data": {
      "application/vnd.jupyter.widget-view+json": {
       "model_id": "",
       "version_major": 2,
       "version_minor": 0
      },
      "text/plain": [
       "HBox(children=(IntProgress(value=0, max=765), HTML(value='')))"
      ]
     },
     "metadata": {},
     "output_type": "display_data"
    },
    {
     "name": "stdout",
     "output_type": "stream",
     "text": [
      "Model saved in path: C:/tmp/save/CIFAR_ResNet20_lr0.0018661241972018135_dp1_reg5.565349203416563e-05_randomsearch_epoch4.ckpt\n",
      "\n",
      "Starting epoch 5\n"
     ]
    },
    {
     "data": {
      "application/vnd.jupyter.widget-view+json": {
       "model_id": "",
       "version_major": 2,
       "version_minor": 0
      },
      "text/plain": [
       "HBox(children=(IntProgress(value=0, max=765), HTML(value='')))"
      ]
     },
     "metadata": {},
     "output_type": "display_data"
    },
    {
     "name": "stdout",
     "output_type": "stream",
     "text": [
      "Model saved in path: C:/tmp/save/CIFAR_ResNet20_lr0.0018661241972018135_dp1_reg5.565349203416563e-05_randomsearch_epoch5.ckpt\n",
      "\n",
      "End of training, loss = 0.6752\n",
      "Got 677 / 1000 correct (67.70%)\n",
      "\n",
      "Model saved in path: C:/tmp/save/CIFAR_ResNet20_lr0.0018661241972018135_dp1_reg5.565349203416563e-05_randomsearch.ckpt\n",
      "\n",
      "Starting epoch 1\n"
     ]
    },
    {
     "data": {
      "application/vnd.jupyter.widget-view+json": {
       "model_id": "",
       "version_major": 2,
       "version_minor": 0
      },
      "text/plain": [
       "HBox(children=(IntProgress(value=0, max=765), HTML(value='')))"
      ]
     },
     "metadata": {},
     "output_type": "display_data"
    },
    {
     "name": "stdout",
     "output_type": "stream",
     "text": [
      "Iteration 0, loss = 5.4717\n",
      "Got 79 / 1000 correct (7.90%)\n",
      "Model saved in path: C:/tmp/save/CIFAR_ResNet20_lr0.0045884485558024815_dp1_reg1.7566236286428013e-05_randomsearch_epoch1.ckpt\n",
      "\n",
      "Starting epoch 2\n"
     ]
    },
    {
     "data": {
      "application/vnd.jupyter.widget-view+json": {
       "model_id": "",
       "version_major": 2,
       "version_minor": 0
      },
      "text/plain": [
       "HBox(children=(IntProgress(value=0, max=765), HTML(value='')))"
      ]
     },
     "metadata": {},
     "output_type": "display_data"
    },
    {
     "name": "stdout",
     "output_type": "stream",
     "text": [
      "Model saved in path: C:/tmp/save/CIFAR_ResNet20_lr0.0045884485558024815_dp1_reg1.7566236286428013e-05_randomsearch_epoch2.ckpt\n",
      "\n",
      "Starting epoch 3\n"
     ]
    },
    {
     "data": {
      "application/vnd.jupyter.widget-view+json": {
       "model_id": "",
       "version_major": 2,
       "version_minor": 0
      },
      "text/plain": [
       "HBox(children=(IntProgress(value=0, max=765), HTML(value='')))"
      ]
     },
     "metadata": {},
     "output_type": "display_data"
    },
    {
     "name": "stdout",
     "output_type": "stream",
     "text": [
      "Model saved in path: C:/tmp/save/CIFAR_ResNet20_lr0.0045884485558024815_dp1_reg1.7566236286428013e-05_randomsearch_epoch3.ckpt\n",
      "\n",
      "Starting epoch 4\n"
     ]
    },
    {
     "data": {
      "application/vnd.jupyter.widget-view+json": {
       "model_id": "",
       "version_major": 2,
       "version_minor": 0
      },
      "text/plain": [
       "HBox(children=(IntProgress(value=0, max=765), HTML(value='')))"
      ]
     },
     "metadata": {},
     "output_type": "display_data"
    },
    {
     "name": "stdout",
     "output_type": "stream",
     "text": [
      "Model saved in path: C:/tmp/save/CIFAR_ResNet20_lr0.0045884485558024815_dp1_reg1.7566236286428013e-05_randomsearch_epoch4.ckpt\n",
      "\n",
      "Starting epoch 5\n"
     ]
    },
    {
     "data": {
      "application/vnd.jupyter.widget-view+json": {
       "model_id": "",
       "version_major": 2,
       "version_minor": 0
      },
      "text/plain": [
       "HBox(children=(IntProgress(value=0, max=765), HTML(value='')))"
      ]
     },
     "metadata": {},
     "output_type": "display_data"
    },
    {
     "name": "stdout",
     "output_type": "stream",
     "text": [
      "Model saved in path: C:/tmp/save/CIFAR_ResNet20_lr0.0045884485558024815_dp1_reg1.7566236286428013e-05_randomsearch_epoch5.ckpt\n",
      "\n",
      "End of training, loss = 0.7521\n",
      "Got 693 / 1000 correct (69.30%)\n",
      "\n",
      "Model saved in path: C:/tmp/save/CIFAR_ResNet20_lr0.0045884485558024815_dp1_reg1.7566236286428013e-05_randomsearch.ckpt\n",
      "\n",
      "Starting epoch 1\n"
     ]
    },
    {
     "data": {
      "application/vnd.jupyter.widget-view+json": {
       "model_id": "",
       "version_major": 2,
       "version_minor": 0
      },
      "text/plain": [
       "HBox(children=(IntProgress(value=0, max=765), HTML(value='')))"
      ]
     },
     "metadata": {},
     "output_type": "display_data"
    },
    {
     "name": "stdout",
     "output_type": "stream",
     "text": [
      "Iteration 0, loss = 13.6078\n",
      "Got 88 / 1000 correct (8.80%)\n",
      "Model saved in path: C:/tmp/save/CIFAR_ResNet20_lr0.00018712893253893968_dp1_reg0.006236215927519998_randomsearch_epoch1.ckpt\n",
      "\n",
      "Starting epoch 2\n"
     ]
    },
    {
     "data": {
      "application/vnd.jupyter.widget-view+json": {
       "model_id": "",
       "version_major": 2,
       "version_minor": 0
      },
      "text/plain": [
       "HBox(children=(IntProgress(value=0, max=765), HTML(value='')))"
      ]
     },
     "metadata": {},
     "output_type": "display_data"
    },
    {
     "name": "stdout",
     "output_type": "stream",
     "text": [
      "Model saved in path: C:/tmp/save/CIFAR_ResNet20_lr0.00018712893253893968_dp1_reg0.006236215927519998_randomsearch_epoch2.ckpt\n",
      "\n",
      "Starting epoch 3\n"
     ]
    },
    {
     "data": {
      "application/vnd.jupyter.widget-view+json": {
       "model_id": "",
       "version_major": 2,
       "version_minor": 0
      },
      "text/plain": [
       "HBox(children=(IntProgress(value=0, max=765), HTML(value='')))"
      ]
     },
     "metadata": {},
     "output_type": "display_data"
    },
    {
     "name": "stdout",
     "output_type": "stream",
     "text": [
      "Model saved in path: C:/tmp/save/CIFAR_ResNet20_lr0.00018712893253893968_dp1_reg0.006236215927519998_randomsearch_epoch3.ckpt\n",
      "\n",
      "Starting epoch 4\n"
     ]
    },
    {
     "data": {
      "application/vnd.jupyter.widget-view+json": {
       "model_id": "",
       "version_major": 2,
       "version_minor": 0
      },
      "text/plain": [
       "HBox(children=(IntProgress(value=0, max=765), HTML(value='')))"
      ]
     },
     "metadata": {},
     "output_type": "display_data"
    },
    {
     "name": "stdout",
     "output_type": "stream",
     "text": [
      "Model saved in path: C:/tmp/save/CIFAR_ResNet20_lr0.00018712893253893968_dp1_reg0.006236215927519998_randomsearch_epoch4.ckpt\n",
      "\n",
      "Starting epoch 5\n"
     ]
    },
    {
     "data": {
      "application/vnd.jupyter.widget-view+json": {
       "model_id": "",
       "version_major": 2,
       "version_minor": 0
      },
      "text/plain": [
       "HBox(children=(IntProgress(value=0, max=765), HTML(value='')))"
      ]
     },
     "metadata": {},
     "output_type": "display_data"
    },
    {
     "name": "stdout",
     "output_type": "stream",
     "text": [
      "Model saved in path: C:/tmp/save/CIFAR_ResNet20_lr0.00018712893253893968_dp1_reg0.006236215927519998_randomsearch_epoch5.ckpt\n",
      "\n",
      "End of training, loss = 2.5694\n",
      "Got 529 / 1000 correct (52.90%)\n",
      "\n",
      "Model saved in path: C:/tmp/save/CIFAR_ResNet20_lr0.00018712893253893968_dp1_reg0.006236215927519998_randomsearch.ckpt\n",
      "\n",
      "Starting epoch 1\n"
     ]
    },
    {
     "data": {
      "application/vnd.jupyter.widget-view+json": {
       "model_id": "",
       "version_major": 2,
       "version_minor": 0
      },
      "text/plain": [
       "HBox(children=(IntProgress(value=0, max=765), HTML(value='')))"
      ]
     },
     "metadata": {},
     "output_type": "display_data"
    },
    {
     "name": "stdout",
     "output_type": "stream",
     "text": [
      "Iteration 0, loss = 4.9436\n",
      "Got 110 / 1000 correct (11.00%)\n",
      "Model saved in path: C:/tmp/save/CIFAR_ResNet20_lr0.00092705145748776_dp1_reg3.582106725435376e-05_randomsearch_epoch1.ckpt\n",
      "\n",
      "Starting epoch 2\n"
     ]
    },
    {
     "data": {
      "application/vnd.jupyter.widget-view+json": {
       "model_id": "",
       "version_major": 2,
       "version_minor": 0
      },
      "text/plain": [
       "HBox(children=(IntProgress(value=0, max=765), HTML(value='')))"
      ]
     },
     "metadata": {},
     "output_type": "display_data"
    },
    {
     "name": "stdout",
     "output_type": "stream",
     "text": [
      "Model saved in path: C:/tmp/save/CIFAR_ResNet20_lr0.00092705145748776_dp1_reg3.582106725435376e-05_randomsearch_epoch2.ckpt\n",
      "\n",
      "Starting epoch 3\n"
     ]
    },
    {
     "data": {
      "application/vnd.jupyter.widget-view+json": {
       "model_id": "",
       "version_major": 2,
       "version_minor": 0
      },
      "text/plain": [
       "HBox(children=(IntProgress(value=0, max=765), HTML(value='')))"
      ]
     },
     "metadata": {},
     "output_type": "display_data"
    },
    {
     "name": "stdout",
     "output_type": "stream",
     "text": [
      "Model saved in path: C:/tmp/save/CIFAR_ResNet20_lr0.00092705145748776_dp1_reg3.582106725435376e-05_randomsearch_epoch3.ckpt\n",
      "\n",
      "Starting epoch 4\n"
     ]
    },
    {
     "data": {
      "application/vnd.jupyter.widget-view+json": {
       "model_id": "",
       "version_major": 2,
       "version_minor": 0
      },
      "text/plain": [
       "HBox(children=(IntProgress(value=0, max=765), HTML(value='')))"
      ]
     },
     "metadata": {},
     "output_type": "display_data"
    },
    {
     "name": "stdout",
     "output_type": "stream",
     "text": [
      "Model saved in path: C:/tmp/save/CIFAR_ResNet20_lr0.00092705145748776_dp1_reg3.582106725435376e-05_randomsearch_epoch4.ckpt\n",
      "\n",
      "Starting epoch 5\n"
     ]
    },
    {
     "data": {
      "application/vnd.jupyter.widget-view+json": {
       "model_id": "",
       "version_major": 2,
       "version_minor": 0
      },
      "text/plain": [
       "HBox(children=(IntProgress(value=0, max=765), HTML(value='')))"
      ]
     },
     "metadata": {},
     "output_type": "display_data"
    },
    {
     "name": "stdout",
     "output_type": "stream",
     "text": [
      "Model saved in path: C:/tmp/save/CIFAR_ResNet20_lr0.00092705145748776_dp1_reg3.582106725435376e-05_randomsearch_epoch5.ckpt\n",
      "\n",
      "End of training, loss = 0.6509\n",
      "Got 680 / 1000 correct (68.00%)\n",
      "\n",
      "Model saved in path: C:/tmp/save/CIFAR_ResNet20_lr0.00092705145748776_dp1_reg3.582106725435376e-05_randomsearch.ckpt\n",
      "\n",
      "Starting epoch 1\n"
     ]
    },
    {
     "data": {
      "application/vnd.jupyter.widget-view+json": {
       "model_id": "",
       "version_major": 2,
       "version_minor": 0
      },
      "text/plain": [
       "HBox(children=(IntProgress(value=0, max=765), HTML(value='')))"
      ]
     },
     "metadata": {},
     "output_type": "display_data"
    },
    {
     "name": "stdout",
     "output_type": "stream",
     "text": [
      "Iteration 0, loss = 5.7665\n",
      "Got 113 / 1000 correct (11.30%)\n",
      "Model saved in path: C:/tmp/save/CIFAR_ResNet20_lr0.00033897316923009506_dp1_reg0.0001573110340097451_randomsearch_epoch1.ckpt\n",
      "\n",
      "Starting epoch 2\n"
     ]
    },
    {
     "data": {
      "application/vnd.jupyter.widget-view+json": {
       "model_id": "",
       "version_major": 2,
       "version_minor": 0
      },
      "text/plain": [
       "HBox(children=(IntProgress(value=0, max=765), HTML(value='')))"
      ]
     },
     "metadata": {},
     "output_type": "display_data"
    },
    {
     "name": "stdout",
     "output_type": "stream",
     "text": [
      "Model saved in path: C:/tmp/save/CIFAR_ResNet20_lr0.00033897316923009506_dp1_reg0.0001573110340097451_randomsearch_epoch2.ckpt\n",
      "\n",
      "Starting epoch 3\n"
     ]
    },
    {
     "data": {
      "application/vnd.jupyter.widget-view+json": {
       "model_id": "",
       "version_major": 2,
       "version_minor": 0
      },
      "text/plain": [
       "HBox(children=(IntProgress(value=0, max=765), HTML(value='')))"
      ]
     },
     "metadata": {},
     "output_type": "display_data"
    },
    {
     "name": "stdout",
     "output_type": "stream",
     "text": [
      "Model saved in path: C:/tmp/save/CIFAR_ResNet20_lr0.00033897316923009506_dp1_reg0.0001573110340097451_randomsearch_epoch3.ckpt\n",
      "\n",
      "Starting epoch 4\n"
     ]
    },
    {
     "data": {
      "application/vnd.jupyter.widget-view+json": {
       "model_id": "",
       "version_major": 2,
       "version_minor": 0
      },
      "text/plain": [
       "HBox(children=(IntProgress(value=0, max=765), HTML(value='')))"
      ]
     },
     "metadata": {},
     "output_type": "display_data"
    },
    {
     "name": "stdout",
     "output_type": "stream",
     "text": [
      "Model saved in path: C:/tmp/save/CIFAR_ResNet20_lr0.00033897316923009506_dp1_reg0.0001573110340097451_randomsearch_epoch4.ckpt\n",
      "\n",
      "Starting epoch 5\n"
     ]
    },
    {
     "data": {
      "application/vnd.jupyter.widget-view+json": {
       "model_id": "",
       "version_major": 2,
       "version_minor": 0
      },
      "text/plain": [
       "HBox(children=(IntProgress(value=0, max=765), HTML(value='')))"
      ]
     },
     "metadata": {},
     "output_type": "display_data"
    },
    {
     "name": "stdout",
     "output_type": "stream",
     "text": [
      "Model saved in path: C:/tmp/save/CIFAR_ResNet20_lr0.00033897316923009506_dp1_reg0.0001573110340097451_randomsearch_epoch5.ckpt\n",
      "\n",
      "End of training, loss = 1.0621\n",
      "Got 617 / 1000 correct (61.70%)\n",
      "\n",
      "Model saved in path: C:/tmp/save/CIFAR_ResNet20_lr0.00033897316923009506_dp1_reg0.0001573110340097451_randomsearch.ckpt\n",
      "\n",
      "Starting epoch 1\n"
     ]
    },
    {
     "data": {
      "application/vnd.jupyter.widget-view+json": {
       "model_id": "",
       "version_major": 2,
       "version_minor": 0
      },
      "text/plain": [
       "HBox(children=(IntProgress(value=0, max=765), HTML(value='')))"
      ]
     },
     "metadata": {},
     "output_type": "display_data"
    },
    {
     "name": "stdout",
     "output_type": "stream",
     "text": [
      "Iteration 0, loss = 4.9757\n",
      "Got 117 / 1000 correct (11.70%)\n",
      "Model saved in path: C:/tmp/save/CIFAR_ResNet20_lr0.00011909811621863726_dp1_reg0.00034430879579679634_randomsearch_epoch1.ckpt\n",
      "\n",
      "Starting epoch 2\n"
     ]
    },
    {
     "data": {
      "application/vnd.jupyter.widget-view+json": {
       "model_id": "",
       "version_major": 2,
       "version_minor": 0
      },
      "text/plain": [
       "HBox(children=(IntProgress(value=0, max=765), HTML(value='')))"
      ]
     },
     "metadata": {},
     "output_type": "display_data"
    },
    {
     "name": "stdout",
     "output_type": "stream",
     "text": [
      "Model saved in path: C:/tmp/save/CIFAR_ResNet20_lr0.00011909811621863726_dp1_reg0.00034430879579679634_randomsearch_epoch2.ckpt\n",
      "\n",
      "Starting epoch 3\n"
     ]
    },
    {
     "data": {
      "application/vnd.jupyter.widget-view+json": {
       "model_id": "",
       "version_major": 2,
       "version_minor": 0
      },
      "text/plain": [
       "HBox(children=(IntProgress(value=0, max=765), HTML(value='')))"
      ]
     },
     "metadata": {},
     "output_type": "display_data"
    },
    {
     "name": "stdout",
     "output_type": "stream",
     "text": [
      "Model saved in path: C:/tmp/save/CIFAR_ResNet20_lr0.00011909811621863726_dp1_reg0.00034430879579679634_randomsearch_epoch3.ckpt\n",
      "\n",
      "Starting epoch 4\n"
     ]
    },
    {
     "data": {
      "application/vnd.jupyter.widget-view+json": {
       "model_id": "",
       "version_major": 2,
       "version_minor": 0
      },
      "text/plain": [
       "HBox(children=(IntProgress(value=0, max=765), HTML(value='')))"
      ]
     },
     "metadata": {},
     "output_type": "display_data"
    },
    {
     "name": "stdout",
     "output_type": "stream",
     "text": [
      "Model saved in path: C:/tmp/save/CIFAR_ResNet20_lr0.00011909811621863726_dp1_reg0.00034430879579679634_randomsearch_epoch4.ckpt\n",
      "\n",
      "Starting epoch 5\n"
     ]
    },
    {
     "data": {
      "application/vnd.jupyter.widget-view+json": {
       "model_id": "",
       "version_major": 2,
       "version_minor": 0
      },
      "text/plain": [
       "HBox(children=(IntProgress(value=0, max=765), HTML(value='')))"
      ]
     },
     "metadata": {},
     "output_type": "display_data"
    },
    {
     "name": "stdout",
     "output_type": "stream",
     "text": [
      "Model saved in path: C:/tmp/save/CIFAR_ResNet20_lr0.00011909811621863726_dp1_reg0.00034430879579679634_randomsearch_epoch5.ckpt\n",
      "\n",
      "End of training, loss = 1.9971\n",
      "Got 519 / 1000 correct (51.90%)\n",
      "\n",
      "Model saved in path: C:/tmp/save/CIFAR_ResNet20_lr0.00011909811621863726_dp1_reg0.00034430879579679634_randomsearch.ckpt\n",
      "\n",
      "Starting epoch 1\n"
     ]
    },
    {
     "data": {
      "application/vnd.jupyter.widget-view+json": {
       "model_id": "",
       "version_major": 2,
       "version_minor": 0
      },
      "text/plain": [
       "HBox(children=(IntProgress(value=0, max=765), HTML(value='')))"
      ]
     },
     "metadata": {},
     "output_type": "display_data"
    },
    {
     "name": "stdout",
     "output_type": "stream",
     "text": [
      "Iteration 0, loss = 16.0536\n",
      "Got 109 / 1000 correct (10.90%)\n",
      "Model saved in path: C:/tmp/save/CIFAR_ResNet20_lr0.00045482876571418114_dp1_reg0.008050026927464357_randomsearch_epoch1.ckpt\n",
      "\n",
      "Starting epoch 2\n"
     ]
    },
    {
     "data": {
      "application/vnd.jupyter.widget-view+json": {
       "model_id": "",
       "version_major": 2,
       "version_minor": 0
      },
      "text/plain": [
       "HBox(children=(IntProgress(value=0, max=765), HTML(value='')))"
      ]
     },
     "metadata": {},
     "output_type": "display_data"
    },
    {
     "name": "stdout",
     "output_type": "stream",
     "text": [
      "Model saved in path: C:/tmp/save/CIFAR_ResNet20_lr0.00045482876571418114_dp1_reg0.008050026927464357_randomsearch_epoch2.ckpt\n",
      "\n",
      "Starting epoch 3\n"
     ]
    },
    {
     "data": {
      "application/vnd.jupyter.widget-view+json": {
       "model_id": "",
       "version_major": 2,
       "version_minor": 0
      },
      "text/plain": [
       "HBox(children=(IntProgress(value=0, max=765), HTML(value='')))"
      ]
     },
     "metadata": {},
     "output_type": "display_data"
    },
    {
     "name": "stdout",
     "output_type": "stream",
     "text": [
      "Model saved in path: C:/tmp/save/CIFAR_ResNet20_lr0.00045482876571418114_dp1_reg0.008050026927464357_randomsearch_epoch3.ckpt\n",
      "\n",
      "Starting epoch 4\n"
     ]
    },
    {
     "data": {
      "application/vnd.jupyter.widget-view+json": {
       "model_id": "",
       "version_major": 2,
       "version_minor": 0
      },
      "text/plain": [
       "HBox(children=(IntProgress(value=0, max=765), HTML(value='')))"
      ]
     },
     "metadata": {},
     "output_type": "display_data"
    },
    {
     "name": "stdout",
     "output_type": "stream",
     "text": [
      "Model saved in path: C:/tmp/save/CIFAR_ResNet20_lr0.00045482876571418114_dp1_reg0.008050026927464357_randomsearch_epoch4.ckpt\n",
      "\n",
      "Starting epoch 5\n"
     ]
    },
    {
     "data": {
      "application/vnd.jupyter.widget-view+json": {
       "model_id": "",
       "version_major": 2,
       "version_minor": 0
      },
      "text/plain": [
       "HBox(children=(IntProgress(value=0, max=765), HTML(value='')))"
      ]
     },
     "metadata": {},
     "output_type": "display_data"
    },
    {
     "name": "stdout",
     "output_type": "stream",
     "text": [
      "Model saved in path: C:/tmp/save/CIFAR_ResNet20_lr0.00045482876571418114_dp1_reg0.008050026927464357_randomsearch_epoch5.ckpt\n",
      "\n",
      "End of training, loss = 1.2270\n",
      "Got 618 / 1000 correct (61.80%)\n",
      "\n",
      "Model saved in path: C:/tmp/save/CIFAR_ResNet20_lr0.00045482876571418114_dp1_reg0.008050026927464357_randomsearch.ckpt\n",
      "\n",
      "Starting epoch 1\n"
     ]
    },
    {
     "data": {
      "application/vnd.jupyter.widget-view+json": {
       "model_id": "",
       "version_major": 2,
       "version_minor": 0
      },
      "text/plain": [
       "HBox(children=(IntProgress(value=0, max=765), HTML(value='')))"
      ]
     },
     "metadata": {},
     "output_type": "display_data"
    },
    {
     "name": "stdout",
     "output_type": "stream",
     "text": [
      "Iteration 0, loss = 7.2936\n",
      "Got 105 / 1000 correct (10.50%)\n",
      "Model saved in path: C:/tmp/save/CIFAR_ResNet20_lr0.009173881787290492_dp1_reg0.0018183002920375408_randomsearch_epoch1.ckpt\n",
      "\n",
      "Starting epoch 2\n"
     ]
    },
    {
     "data": {
      "application/vnd.jupyter.widget-view+json": {
       "model_id": "",
       "version_major": 2,
       "version_minor": 0
      },
      "text/plain": [
       "HBox(children=(IntProgress(value=0, max=765), HTML(value='')))"
      ]
     },
     "metadata": {},
     "output_type": "display_data"
    },
    {
     "name": "stdout",
     "output_type": "stream",
     "text": [
      "Model saved in path: C:/tmp/save/CIFAR_ResNet20_lr0.009173881787290492_dp1_reg0.0018183002920375408_randomsearch_epoch2.ckpt\n",
      "\n",
      "Starting epoch 3\n"
     ]
    },
    {
     "data": {
      "application/vnd.jupyter.widget-view+json": {
       "model_id": "",
       "version_major": 2,
       "version_minor": 0
      },
      "text/plain": [
       "HBox(children=(IntProgress(value=0, max=765), HTML(value='')))"
      ]
     },
     "metadata": {},
     "output_type": "display_data"
    },
    {
     "name": "stdout",
     "output_type": "stream",
     "text": [
      "Model saved in path: C:/tmp/save/CIFAR_ResNet20_lr0.009173881787290492_dp1_reg0.0018183002920375408_randomsearch_epoch3.ckpt\n",
      "\n",
      "Starting epoch 4\n"
     ]
    },
    {
     "data": {
      "application/vnd.jupyter.widget-view+json": {
       "model_id": "",
       "version_major": 2,
       "version_minor": 0
      },
      "text/plain": [
       "HBox(children=(IntProgress(value=0, max=765), HTML(value='')))"
      ]
     },
     "metadata": {},
     "output_type": "display_data"
    },
    {
     "name": "stdout",
     "output_type": "stream",
     "text": [
      "Model saved in path: C:/tmp/save/CIFAR_ResNet20_lr0.009173881787290492_dp1_reg0.0018183002920375408_randomsearch_epoch4.ckpt\n",
      "\n",
      "Starting epoch 5\n"
     ]
    },
    {
     "data": {
      "application/vnd.jupyter.widget-view+json": {
       "model_id": "",
       "version_major": 2,
       "version_minor": 0
      },
      "text/plain": [
       "HBox(children=(IntProgress(value=0, max=765), HTML(value='')))"
      ]
     },
     "metadata": {},
     "output_type": "display_data"
    },
    {
     "name": "stdout",
     "output_type": "stream",
     "text": [
      "Model saved in path: C:/tmp/save/CIFAR_ResNet20_lr0.009173881787290492_dp1_reg0.0018183002920375408_randomsearch_epoch5.ckpt\n",
      "\n",
      "End of training, loss = 1.4229\n",
      "Got 232 / 1000 correct (23.20%)\n",
      "\n",
      "Model saved in path: C:/tmp/save/CIFAR_ResNet20_lr0.009173881787290492_dp1_reg0.0018183002920375408_randomsearch.ckpt\n",
      "\n",
      "Starting epoch 1\n"
     ]
    },
    {
     "data": {
      "application/vnd.jupyter.widget-view+json": {
       "model_id": "",
       "version_major": 2,
       "version_minor": 0
      },
      "text/plain": [
       "HBox(children=(IntProgress(value=0, max=765), HTML(value='')))"
      ]
     },
     "metadata": {},
     "output_type": "display_data"
    },
    {
     "name": "stdout",
     "output_type": "stream",
     "text": [
      "Iteration 0, loss = 10.5498\n",
      "Got 107 / 1000 correct (10.70%)\n",
      "Model saved in path: C:/tmp/save/CIFAR_ResNet20_lr0.0035683168821889393_dp1_reg0.003993938026655614_randomsearch_epoch1.ckpt\n",
      "\n",
      "Starting epoch 2\n"
     ]
    },
    {
     "data": {
      "application/vnd.jupyter.widget-view+json": {
       "model_id": "",
       "version_major": 2,
       "version_minor": 0
      },
      "text/plain": [
       "HBox(children=(IntProgress(value=0, max=765), HTML(value='')))"
      ]
     },
     "metadata": {},
     "output_type": "display_data"
    },
    {
     "name": "stdout",
     "output_type": "stream",
     "text": [
      "Model saved in path: C:/tmp/save/CIFAR_ResNet20_lr0.0035683168821889393_dp1_reg0.003993938026655614_randomsearch_epoch2.ckpt\n",
      "\n",
      "Starting epoch 3\n"
     ]
    },
    {
     "data": {
      "application/vnd.jupyter.widget-view+json": {
       "model_id": "",
       "version_major": 2,
       "version_minor": 0
      },
      "text/plain": [
       "HBox(children=(IntProgress(value=0, max=765), HTML(value='')))"
      ]
     },
     "metadata": {},
     "output_type": "display_data"
    },
    {
     "name": "stdout",
     "output_type": "stream",
     "text": [
      "Model saved in path: C:/tmp/save/CIFAR_ResNet20_lr0.0035683168821889393_dp1_reg0.003993938026655614_randomsearch_epoch3.ckpt\n",
      "\n",
      "Starting epoch 4\n"
     ]
    },
    {
     "data": {
      "application/vnd.jupyter.widget-view+json": {
       "model_id": "",
       "version_major": 2,
       "version_minor": 0
      },
      "text/plain": [
       "HBox(children=(IntProgress(value=0, max=765), HTML(value='')))"
      ]
     },
     "metadata": {},
     "output_type": "display_data"
    },
    {
     "name": "stdout",
     "output_type": "stream",
     "text": [
      "Model saved in path: C:/tmp/save/CIFAR_ResNet20_lr0.0035683168821889393_dp1_reg0.003993938026655614_randomsearch_epoch4.ckpt\n",
      "\n",
      "Starting epoch 5\n"
     ]
    },
    {
     "data": {
      "application/vnd.jupyter.widget-view+json": {
       "model_id": "",
       "version_major": 2,
       "version_minor": 0
      },
      "text/plain": [
       "HBox(children=(IntProgress(value=0, max=765), HTML(value='')))"
      ]
     },
     "metadata": {},
     "output_type": "display_data"
    },
    {
     "name": "stdout",
     "output_type": "stream",
     "text": [
      "Model saved in path: C:/tmp/save/CIFAR_ResNet20_lr0.0035683168821889393_dp1_reg0.003993938026655614_randomsearch_epoch5.ckpt\n",
      "\n",
      "End of training, loss = 1.5402\n",
      "Got 242 / 1000 correct (24.20%)\n",
      "\n",
      "Model saved in path: C:/tmp/save/CIFAR_ResNet20_lr0.0035683168821889393_dp1_reg0.003993938026655614_randomsearch.ckpt\n"
     ]
    }
   ],
   "source": [
    "num_epochs = 5\n",
    "total_layers = 20\n",
    "dropout_prob = 1\n",
    "learning_rate = 0.001\n",
    "reg = 0.001\n",
    "decay_at=[15]\n",
    "decay_to=[0.0001]\n",
    "print_every = 5000\n",
    "\n",
    "for i in range(10):\n",
    "    learning_rate = 10 ** np.random.uniform(-4,-2)\n",
    "    reg = 10 ** np.random.uniform(-5,-2)\n",
    "\n",
    "    name = (f\"CIFAR_ResNet{total_layers}_lr{learning_rate}\"\n",
    "                f\"_dp{dropout_prob}_reg{reg}_randomsearch\")  #_decay{decay_at}_{decay_to}\n",
    "\n",
    "    def model_init_fn(inputs, is_training, total_layers=total_layers, reg=reg):\n",
    "        return model_ResNetv2(inputs, is_training, total_layers=total_layers,\n",
    "                               dropout=dropout_prob, reg=reg)\n",
    "    def optimizer_init_fn():\n",
    "        return tf.train.AdamOptimizer(learning_rate=learning_rate)\n",
    "\n",
    "    train_part5(model_init_fn, optimizer_init_fn, num_epochs, experiment_name=name, decay_at=decay_at, decay_to=decay_to)"
   ]
  },
  {
   "cell_type": "code",
   "execution_count": 60,
   "metadata": {
    "scrolled": true
   },
   "outputs": [
    {
     "data": {
      "application/vnd.jupyter.widget-view+json": {
       "model_id": "",
       "version_major": 2,
       "version_minor": 0
      },
      "text/plain": [
       "HBox(children=(IntProgress(value=0, max=20), HTML(value='')))"
      ]
     },
     "metadata": {},
     "output_type": "display_data"
    },
    {
     "name": "stdout",
     "output_type": "stream",
     "text": [
      "\n",
      "Starting epoch 1\n"
     ]
    },
    {
     "data": {
      "application/vnd.jupyter.widget-view+json": {
       "model_id": "",
       "version_major": 2,
       "version_minor": 0
      },
      "text/plain": [
       "HBox(children=(IntProgress(value=0, max=765), HTML(value='')))"
      ]
     },
     "metadata": {},
     "output_type": "display_data"
    },
    {
     "name": "stdout",
     "output_type": "stream",
     "text": [
      "Iteration 0, loss = 4.7160\n",
      "Got 126 / 1000 correct (12.60%)\n",
      "Iteration 200, loss = 3.0927\n",
      "Got 271 / 1000 correct (27.10%)\n",
      "Iteration 400, loss = 2.9107\n",
      "Got 365 / 1000 correct (36.50%)\n",
      "Iteration 600, loss = 2.4353\n",
      "Got 426 / 1000 correct (42.60%)\n",
      "Model saved in path: C:/tmp/save/CIFAR_ResNet20_lr0.001_dp1_reg0.001_nocrop_epoch1.ckpt\n",
      "\n",
      "Starting epoch 2\n"
     ]
    },
    {
     "data": {
      "application/vnd.jupyter.widget-view+json": {
       "model_id": "",
       "version_major": 2,
       "version_minor": 0
      },
      "text/plain": [
       "HBox(children=(IntProgress(value=0, max=765), HTML(value='')))"
      ]
     },
     "metadata": {},
     "output_type": "display_data"
    },
    {
     "name": "stdout",
     "output_type": "stream",
     "text": [
      "Iteration 800, loss = 2.2726\n",
      "Got 494 / 1000 correct (49.40%)\n",
      "Iteration 1000, loss = 1.9236\n",
      "Got 451 / 1000 correct (45.10%)\n",
      "Iteration 1200, loss = 1.9505\n",
      "Got 495 / 1000 correct (49.50%)\n",
      "Iteration 1400, loss = 1.5952\n",
      "Got 495 / 1000 correct (49.50%)\n",
      "Model saved in path: C:/tmp/save/CIFAR_ResNet20_lr0.001_dp1_reg0.001_nocrop_epoch2.ckpt\n",
      "\n",
      "Starting epoch 3\n"
     ]
    },
    {
     "data": {
      "application/vnd.jupyter.widget-view+json": {
       "model_id": "",
       "version_major": 2,
       "version_minor": 0
      },
      "text/plain": [
       "HBox(children=(IntProgress(value=0, max=765), HTML(value='')))"
      ]
     },
     "metadata": {},
     "output_type": "display_data"
    },
    {
     "name": "stdout",
     "output_type": "stream",
     "text": [
      "Iteration 1600, loss = 1.3738\n",
      "Got 591 / 1000 correct (59.10%)\n",
      "Iteration 1800, loss = 1.5485\n",
      "Got 555 / 1000 correct (55.50%)\n",
      "Iteration 2000, loss = 1.6307\n",
      "Got 644 / 1000 correct (64.40%)\n",
      "Iteration 2200, loss = 1.3290\n",
      "Got 580 / 1000 correct (58.00%)\n",
      "Model saved in path: C:/tmp/save/CIFAR_ResNet20_lr0.001_dp1_reg0.001_nocrop_epoch3.ckpt\n",
      "\n",
      "Starting epoch 4\n"
     ]
    },
    {
     "data": {
      "application/vnd.jupyter.widget-view+json": {
       "model_id": "",
       "version_major": 2,
       "version_minor": 0
      },
      "text/plain": [
       "HBox(children=(IntProgress(value=0, max=765), HTML(value='')))"
      ]
     },
     "metadata": {},
     "output_type": "display_data"
    },
    {
     "name": "stdout",
     "output_type": "stream",
     "text": [
      "Iteration 2400, loss = 1.3419\n",
      "Got 590 / 1000 correct (59.00%)\n",
      "Iteration 2600, loss = 1.2900\n",
      "Got 571 / 1000 correct (57.10%)\n",
      "Iteration 2800, loss = 1.2712\n",
      "Got 582 / 1000 correct (58.20%)\n",
      "Iteration 3000, loss = 1.3387\n",
      "Got 661 / 1000 correct (66.10%)\n",
      "Model saved in path: C:/tmp/save/CIFAR_ResNet20_lr0.001_dp1_reg0.001_nocrop_epoch4.ckpt\n",
      "\n",
      "Starting epoch 5\n"
     ]
    },
    {
     "data": {
      "application/vnd.jupyter.widget-view+json": {
       "model_id": "",
       "version_major": 2,
       "version_minor": 0
      },
      "text/plain": [
       "HBox(children=(IntProgress(value=0, max=765), HTML(value='')))"
      ]
     },
     "metadata": {},
     "output_type": "display_data"
    },
    {
     "name": "stdout",
     "output_type": "stream",
     "text": [
      "Iteration 3200, loss = 1.3032\n",
      "Got 656 / 1000 correct (65.60%)\n",
      "Iteration 3400, loss = 1.2524\n",
      "Got 616 / 1000 correct (61.60%)\n",
      "Iteration 3600, loss = 1.2298\n",
      "Got 602 / 1000 correct (60.20%)\n",
      "Iteration 3800, loss = 1.0159\n",
      "Got 626 / 1000 correct (62.60%)\n",
      "Model saved in path: C:/tmp/save/CIFAR_ResNet20_lr0.001_dp1_reg0.001_nocrop_epoch5.ckpt\n",
      "\n",
      "Starting epoch 6\n"
     ]
    },
    {
     "data": {
      "application/vnd.jupyter.widget-view+json": {
       "model_id": "",
       "version_major": 2,
       "version_minor": 0
      },
      "text/plain": [
       "HBox(children=(IntProgress(value=0, max=765), HTML(value='')))"
      ]
     },
     "metadata": {},
     "output_type": "display_data"
    },
    {
     "name": "stdout",
     "output_type": "stream",
     "text": [
      "Iteration 4000, loss = 1.1980\n",
      "Got 558 / 1000 correct (55.80%)\n",
      "Iteration 4200, loss = 0.9223\n",
      "Got 628 / 1000 correct (62.80%)\n",
      "Iteration 4400, loss = 0.8907\n",
      "Got 636 / 1000 correct (63.60%)\n",
      "Model saved in path: C:/tmp/save/CIFAR_ResNet20_lr0.001_dp1_reg0.001_nocrop_epoch6.ckpt\n",
      "\n",
      "Starting epoch 7\n"
     ]
    },
    {
     "data": {
      "application/vnd.jupyter.widget-view+json": {
       "model_id": "",
       "version_major": 2,
       "version_minor": 0
      },
      "text/plain": [
       "HBox(children=(IntProgress(value=0, max=765), HTML(value='')))"
      ]
     },
     "metadata": {},
     "output_type": "display_data"
    },
    {
     "name": "stdout",
     "output_type": "stream",
     "text": [
      "Iteration 4600, loss = 1.1643\n",
      "Got 595 / 1000 correct (59.50%)\n",
      "Iteration 4800, loss = 1.0235\n",
      "Got 720 / 1000 correct (72.00%)\n",
      "Iteration 5000, loss = 0.9451\n",
      "Got 700 / 1000 correct (70.00%)\n",
      "Iteration 5200, loss = 0.8767\n",
      "Got 607 / 1000 correct (60.70%)\n",
      "Model saved in path: C:/tmp/save/CIFAR_ResNet20_lr0.001_dp1_reg0.001_nocrop_epoch7.ckpt\n",
      "\n",
      "Starting epoch 8\n"
     ]
    },
    {
     "data": {
      "application/vnd.jupyter.widget-view+json": {
       "model_id": "",
       "version_major": 2,
       "version_minor": 0
      },
      "text/plain": [
       "HBox(children=(IntProgress(value=0, max=765), HTML(value='')))"
      ]
     },
     "metadata": {},
     "output_type": "display_data"
    },
    {
     "name": "stdout",
     "output_type": "stream",
     "text": [
      "Iteration 5400, loss = 0.6949\n",
      "Got 695 / 1000 correct (69.50%)\n",
      "Iteration 5600, loss = 0.8780\n",
      "Got 508 / 1000 correct (50.80%)\n",
      "Iteration 5800, loss = 0.9451\n",
      "Got 625 / 1000 correct (62.50%)\n",
      "Iteration 6000, loss = 0.9976\n",
      "Got 686 / 1000 correct (68.60%)\n",
      "Model saved in path: C:/tmp/save/CIFAR_ResNet20_lr0.001_dp1_reg0.001_nocrop_epoch8.ckpt\n",
      "\n",
      "Starting epoch 9\n"
     ]
    },
    {
     "data": {
      "application/vnd.jupyter.widget-view+json": {
       "model_id": "",
       "version_major": 2,
       "version_minor": 0
      },
      "text/plain": [
       "HBox(children=(IntProgress(value=0, max=765), HTML(value='')))"
      ]
     },
     "metadata": {},
     "output_type": "display_data"
    },
    {
     "name": "stdout",
     "output_type": "stream",
     "text": [
      "Iteration 6200, loss = 0.9410\n",
      "Got 719 / 1000 correct (71.90%)\n",
      "Iteration 6400, loss = 0.8788\n",
      "Got 596 / 1000 correct (59.60%)\n",
      "Iteration 6600, loss = 0.7414\n",
      "Got 634 / 1000 correct (63.40%)\n",
      "Iteration 6800, loss = 0.9207\n",
      "Got 717 / 1000 correct (71.70%)\n",
      "Model saved in path: C:/tmp/save/CIFAR_ResNet20_lr0.001_dp1_reg0.001_nocrop_epoch9.ckpt\n",
      "\n",
      "Starting epoch 10\n"
     ]
    },
    {
     "data": {
      "application/vnd.jupyter.widget-view+json": {
       "model_id": "",
       "version_major": 2,
       "version_minor": 0
      },
      "text/plain": [
       "HBox(children=(IntProgress(value=0, max=765), HTML(value='')))"
      ]
     },
     "metadata": {},
     "output_type": "display_data"
    },
    {
     "name": "stdout",
     "output_type": "stream",
     "text": [
      "Iteration 7000, loss = 0.7620\n",
      "Got 708 / 1000 correct (70.80%)\n",
      "Iteration 7200, loss = 0.8095\n",
      "Got 618 / 1000 correct (61.80%)\n",
      "Iteration 7400, loss = 0.6733\n",
      "Got 651 / 1000 correct (65.10%)\n",
      "Iteration 7600, loss = 0.8453\n",
      "Got 667 / 1000 correct (66.70%)\n",
      "Model saved in path: C:/tmp/save/CIFAR_ResNet20_lr0.001_dp1_reg0.001_nocrop_epoch10.ckpt\n",
      "\n",
      "Starting epoch 11\n"
     ]
    },
    {
     "data": {
      "application/vnd.jupyter.widget-view+json": {
       "model_id": "",
       "version_major": 2,
       "version_minor": 0
      },
      "text/plain": [
       "HBox(children=(IntProgress(value=0, max=765), HTML(value='')))"
      ]
     },
     "metadata": {},
     "output_type": "display_data"
    },
    {
     "name": "stdout",
     "output_type": "stream",
     "text": [
      "Iteration 7800, loss = 0.9423\n",
      "Got 622 / 1000 correct (62.20%)\n",
      "Iteration 8000, loss = 0.7496\n",
      "Got 711 / 1000 correct (71.10%)\n",
      "Iteration 8200, loss = 0.9104\n",
      "Got 697 / 1000 correct (69.70%)\n",
      "Iteration 8400, loss = 0.6674\n",
      "Got 650 / 1000 correct (65.00%)\n",
      "Model saved in path: C:/tmp/save/CIFAR_ResNet20_lr0.001_dp1_reg0.001_nocrop_epoch11.ckpt\n",
      "\n",
      "Starting epoch 12\n"
     ]
    },
    {
     "data": {
      "application/vnd.jupyter.widget-view+json": {
       "model_id": "",
       "version_major": 2,
       "version_minor": 0
      },
      "text/plain": [
       "HBox(children=(IntProgress(value=0, max=765), HTML(value='')))"
      ]
     },
     "metadata": {},
     "output_type": "display_data"
    },
    {
     "name": "stdout",
     "output_type": "stream",
     "text": [
      "Iteration 8600, loss = 0.9363\n",
      "Got 655 / 1000 correct (65.50%)\n",
      "Iteration 8800, loss = 0.7933\n",
      "Got 703 / 1000 correct (70.30%)\n",
      "Iteration 9000, loss = 1.1443\n",
      "Got 635 / 1000 correct (63.50%)\n",
      "Model saved in path: C:/tmp/save/CIFAR_ResNet20_lr0.001_dp1_reg0.001_nocrop_epoch12.ckpt\n",
      "\n",
      "Starting epoch 13\n"
     ]
    },
    {
     "data": {
      "application/vnd.jupyter.widget-view+json": {
       "model_id": "",
       "version_major": 2,
       "version_minor": 0
      },
      "text/plain": [
       "HBox(children=(IntProgress(value=0, max=765), HTML(value='')))"
      ]
     },
     "metadata": {},
     "output_type": "display_data"
    },
    {
     "name": "stdout",
     "output_type": "stream",
     "text": [
      "Iteration 9200, loss = 0.6907\n",
      "Got 626 / 1000 correct (62.60%)\n",
      "Iteration 9400, loss = 0.7334\n",
      "Got 616 / 1000 correct (61.60%)\n",
      "Iteration 9600, loss = 0.8030\n",
      "Got 712 / 1000 correct (71.20%)\n",
      "Iteration 9800, loss = 0.8964\n",
      "Got 590 / 1000 correct (59.00%)\n",
      "Model saved in path: C:/tmp/save/CIFAR_ResNet20_lr0.001_dp1_reg0.001_nocrop_epoch13.ckpt\n",
      "\n",
      "Starting epoch 14\n"
     ]
    },
    {
     "data": {
      "application/vnd.jupyter.widget-view+json": {
       "model_id": "",
       "version_major": 2,
       "version_minor": 0
      },
      "text/plain": [
       "HBox(children=(IntProgress(value=0, max=765), HTML(value='')))"
      ]
     },
     "metadata": {},
     "output_type": "display_data"
    },
    {
     "name": "stdout",
     "output_type": "stream",
     "text": [
      "Iteration 10000, loss = 0.8651\n",
      "Got 697 / 1000 correct (69.70%)\n",
      "Iteration 10200, loss = 0.7135\n",
      "Got 656 / 1000 correct (65.60%)\n",
      "Iteration 10400, loss = 1.0694\n",
      "Got 657 / 1000 correct (65.70%)\n",
      "Iteration 10600, loss = 0.7452\n",
      "Got 691 / 1000 correct (69.10%)\n",
      "Model saved in path: C:/tmp/save/CIFAR_ResNet20_lr0.001_dp1_reg0.001_nocrop_epoch14.ckpt\n",
      "\n",
      "Starting epoch 15\n"
     ]
    },
    {
     "data": {
      "application/vnd.jupyter.widget-view+json": {
       "model_id": "",
       "version_major": 2,
       "version_minor": 0
      },
      "text/plain": [
       "HBox(children=(IntProgress(value=0, max=765), HTML(value='')))"
      ]
     },
     "metadata": {},
     "output_type": "display_data"
    },
    {
     "name": "stdout",
     "output_type": "stream",
     "text": [
      "Iteration 10800, loss = 0.7247\n",
      "Got 712 / 1000 correct (71.20%)\n",
      "Iteration 11000, loss = 0.7966\n",
      "Got 727 / 1000 correct (72.70%)\n",
      "Iteration 11200, loss = 0.8547\n",
      "Got 713 / 1000 correct (71.30%)\n",
      "Iteration 11400, loss = 1.0107\n",
      "Got 763 / 1000 correct (76.30%)\n",
      "Model saved in path: C:/tmp/save/CIFAR_ResNet20_lr0.001_dp1_reg0.001_nocrop_epoch15.ckpt\n",
      "\n",
      "Starting epoch 16\n"
     ]
    },
    {
     "data": {
      "application/vnd.jupyter.widget-view+json": {
       "model_id": "",
       "version_major": 2,
       "version_minor": 0
      },
      "text/plain": [
       "HBox(children=(IntProgress(value=0, max=765), HTML(value='')))"
      ]
     },
     "metadata": {},
     "output_type": "display_data"
    },
    {
     "name": "stdout",
     "output_type": "stream",
     "text": [
      "Iteration 11600, loss = 1.0497\n",
      "Got 688 / 1000 correct (68.80%)\n",
      "Iteration 11800, loss = 0.8355\n",
      "Got 693 / 1000 correct (69.30%)\n",
      "Iteration 12000, loss = 0.7387\n",
      "Got 693 / 1000 correct (69.30%)\n",
      "Iteration 12200, loss = 0.9202\n",
      "Got 727 / 1000 correct (72.70%)\n",
      "Model saved in path: C:/tmp/save/CIFAR_ResNet20_lr0.001_dp1_reg0.001_nocrop_epoch16.ckpt\n",
      "\n",
      "Starting epoch 17\n"
     ]
    },
    {
     "data": {
      "application/vnd.jupyter.widget-view+json": {
       "model_id": "",
       "version_major": 2,
       "version_minor": 0
      },
      "text/plain": [
       "HBox(children=(IntProgress(value=0, max=765), HTML(value='')))"
      ]
     },
     "metadata": {},
     "output_type": "display_data"
    },
    {
     "name": "stdout",
     "output_type": "stream",
     "text": [
      "Iteration 12400, loss = 0.6858\n",
      "Got 688 / 1000 correct (68.80%)\n",
      "Iteration 12600, loss = 0.7614\n",
      "Got 694 / 1000 correct (69.40%)\n",
      "Iteration 12800, loss = 0.5758\n",
      "Got 703 / 1000 correct (70.30%)\n",
      "Iteration 13000, loss = 0.8071\n",
      "Got 593 / 1000 correct (59.30%)\n",
      "Model saved in path: C:/tmp/save/CIFAR_ResNet20_lr0.001_dp1_reg0.001_nocrop_epoch17.ckpt\n",
      "\n",
      "Starting epoch 18\n"
     ]
    },
    {
     "data": {
      "application/vnd.jupyter.widget-view+json": {
       "model_id": "",
       "version_major": 2,
       "version_minor": 0
      },
      "text/plain": [
       "HBox(children=(IntProgress(value=0, max=765), HTML(value='')))"
      ]
     },
     "metadata": {},
     "output_type": "display_data"
    },
    {
     "name": "stdout",
     "output_type": "stream",
     "text": [
      "Iteration 13200, loss = 0.7769\n",
      "Got 696 / 1000 correct (69.60%)\n",
      "Iteration 13400, loss = 0.6824\n",
      "Got 667 / 1000 correct (66.70%)\n",
      "Iteration 13600, loss = 0.6905\n",
      "Got 686 / 1000 correct (68.60%)\n",
      "Model saved in path: C:/tmp/save/CIFAR_ResNet20_lr0.001_dp1_reg0.001_nocrop_epoch18.ckpt\n",
      "\n",
      "Starting epoch 19\n"
     ]
    },
    {
     "data": {
      "application/vnd.jupyter.widget-view+json": {
       "model_id": "",
       "version_major": 2,
       "version_minor": 0
      },
      "text/plain": [
       "HBox(children=(IntProgress(value=0, max=765), HTML(value='')))"
      ]
     },
     "metadata": {},
     "output_type": "display_data"
    },
    {
     "name": "stdout",
     "output_type": "stream",
     "text": [
      "Iteration 13800, loss = 0.7498\n",
      "Got 681 / 1000 correct (68.10%)\n",
      "Iteration 14000, loss = 0.8357\n",
      "Got 696 / 1000 correct (69.60%)\n",
      "Iteration 14200, loss = 0.7807\n",
      "Got 714 / 1000 correct (71.40%)\n",
      "Iteration 14400, loss = 0.7869\n",
      "Got 685 / 1000 correct (68.50%)\n",
      "Model saved in path: C:/tmp/save/CIFAR_ResNet20_lr0.001_dp1_reg0.001_nocrop_epoch19.ckpt\n",
      "\n",
      "Starting epoch 20\n"
     ]
    },
    {
     "data": {
      "application/vnd.jupyter.widget-view+json": {
       "model_id": "",
       "version_major": 2,
       "version_minor": 0
      },
      "text/plain": [
       "HBox(children=(IntProgress(value=0, max=765), HTML(value='')))"
      ]
     },
     "metadata": {},
     "output_type": "display_data"
    },
    {
     "name": "stdout",
     "output_type": "stream",
     "text": [
      "Iteration 14600, loss = 0.9563\n",
      "Got 699 / 1000 correct (69.90%)\n",
      "Iteration 14800, loss = 0.7483\n",
      "Got 723 / 1000 correct (72.30%)\n",
      "Iteration 15000, loss = 0.7589\n",
      "Got 732 / 1000 correct (73.20%)\n",
      "Iteration 15200, loss = 0.6908\n",
      "Got 735 / 1000 correct (73.50%)\n",
      "Model saved in path: C:/tmp/save/CIFAR_ResNet20_lr0.001_dp1_reg0.001_nocrop_epoch20.ckpt\n",
      "\n",
      "End of training, loss = 0.6451\n",
      "Got 747 / 1000 correct (74.70%)\n",
      "\n",
      "Model saved in path: C:/tmp/save/CIFAR_ResNet20_lr0.001_dp1_reg0.001_nocrop.ckpt\n"
     ]
    },
    {
     "data": {
      "text/plain": [
       "0.747"
      ]
     },
     "execution_count": 60,
     "metadata": {},
     "output_type": "execute_result"
    }
   ],
   "source": [
    "num_epochs = 20\n",
    "total_layers = 20\n",
    "dropout_prob = 1\n",
    "learning_rate = 0.001\n",
    "reg = 0.001\n",
    "decay_at=None\n",
    "decay_to=None\n",
    "print_every = 200\n",
    "\n",
    "name = (f\"CIFAR_ResNet{total_layers}_lr{learning_rate}\"\n",
    "            f\"_dp{dropout_prob}_reg{reg}_decay{decay_at}_{decay_to}\")  \n",
    "\n",
    "def model_init_fn(inputs, is_training, total_layers=total_layers, reg=reg):\n",
    "    return model_ResNetv2(inputs, is_training, total_layers=total_layers,\n",
    "                           dropout=dropout_prob, reg=reg)\n",
    "def optimizer_init_fn():\n",
    "    return tf.train.AdamOptimizer(learning_rate=learning_rate)\n",
    "\n",
    "train_part5(model_init_fn, optimizer_init_fn, num_epochs, experiment_name=name, decay_at=decay_at, decay_to=decay_to)"
   ]
  },
  {
   "cell_type": "code",
   "execution_count": 52,
   "metadata": {},
   "outputs": [
    {
     "name": "stdout",
     "output_type": "stream",
     "text": [
      "\n",
      "Starting epoch 1\n"
     ]
    },
    {
     "data": {
      "application/vnd.jupyter.widget-view+json": {
       "model_id": "",
       "version_major": 2,
       "version_minor": 0
      },
      "text/plain": [
       "HBox(children=(IntProgress(value=0, max=765), HTML(value='')))"
      ]
     },
     "metadata": {},
     "output_type": "display_data"
    },
    {
     "name": "stdout",
     "output_type": "stream",
     "text": [
      "Iteration 0, loss = 2.9103\n",
      "Got 79 / 1000 correct (7.90%)\n",
      "Iteration 365, loss = nan\n",
      "Got 87 / 1000 correct (8.70%)\n",
      "Iteration 730, loss = nan\n",
      "Got 87 / 1000 correct (8.70%)\n",
      "Model saved in path: C:/tmp/save/CIFAR_ResNet20_lr0.1_decayNone_None_reg0.0001_momentum_epoch1.ckpt\n",
      "\n",
      "Starting epoch 2\n"
     ]
    },
    {
     "data": {
      "application/vnd.jupyter.widget-view+json": {
       "model_id": "",
       "version_major": 2,
       "version_minor": 0
      },
      "text/plain": [
       "HBox(children=(IntProgress(value=0, max=765), HTML(value='')))"
      ]
     },
     "metadata": {},
     "output_type": "display_data"
    },
    {
     "name": "stdout",
     "output_type": "stream",
     "text": [
      "Iteration 1095, loss = nan\n",
      "Got 87 / 1000 correct (8.70%)\n",
      "Iteration 1460, loss = nan\n",
      "Got 87 / 1000 correct (8.70%)\n",
      "Model saved in path: C:/tmp/save/CIFAR_ResNet20_lr0.1_decayNone_None_reg0.0001_momentum_epoch2.ckpt\n",
      "\n",
      "Starting epoch 3\n"
     ]
    },
    {
     "data": {
      "application/vnd.jupyter.widget-view+json": {
       "model_id": "ebeab8e54ce74990bd98325419b19b5e",
       "version_major": 2,
       "version_minor": 0
      },
      "text/plain": [
       "HBox(children=(IntProgress(value=0, max=765), HTML(value='')))"
      ]
     },
     "metadata": {},
     "output_type": "display_data"
    },
    {
     "ename": "KeyboardInterrupt",
     "evalue": "",
     "output_type": "error",
     "traceback": [
      "\u001b[1;31m---------------------------------------------------------------------------\u001b[0m",
      "\u001b[1;31mKeyboardInterrupt\u001b[0m                         Traceback (most recent call last)",
      "\u001b[1;32m<ipython-input-52-4719f2275d25>\u001b[0m in \u001b[0;36m<module>\u001b[1;34m\u001b[0m\n\u001b[0;32m     17\u001b[0m     \u001b[1;32mreturn\u001b[0m \u001b[0mtf\u001b[0m\u001b[1;33m.\u001b[0m\u001b[0mtrain\u001b[0m\u001b[1;33m.\u001b[0m\u001b[0mMomentumOptimizer\u001b[0m\u001b[1;33m(\u001b[0m\u001b[0mlearning_rate\u001b[0m\u001b[1;33m=\u001b[0m\u001b[0mlearning_rate\u001b[0m\u001b[1;33m,\u001b[0m \u001b[0mmomentum\u001b[0m\u001b[1;33m=\u001b[0m\u001b[1;36m0.9\u001b[0m\u001b[1;33m)\u001b[0m\u001b[1;33m\u001b[0m\u001b[0m\n\u001b[0;32m     18\u001b[0m \u001b[1;33m\u001b[0m\u001b[0m\n\u001b[1;32m---> 19\u001b[1;33m \u001b[0mtrain_part5\u001b[0m\u001b[1;33m(\u001b[0m\u001b[0mmodel_init_fn\u001b[0m\u001b[1;33m,\u001b[0m \u001b[0moptimizer_init_fn\u001b[0m\u001b[1;33m,\u001b[0m \u001b[0mnum_epochs\u001b[0m\u001b[1;33m,\u001b[0m \u001b[0mexperiment_name\u001b[0m\u001b[1;33m=\u001b[0m\u001b[0mname\u001b[0m\u001b[1;33m,\u001b[0m \u001b[0mdecay_at\u001b[0m\u001b[1;33m=\u001b[0m\u001b[0mdecay_at\u001b[0m\u001b[1;33m,\u001b[0m \u001b[0mdecay_to\u001b[0m\u001b[1;33m=\u001b[0m\u001b[0mdecay_to\u001b[0m\u001b[1;33m)\u001b[0m\u001b[1;33m\u001b[0m\u001b[0m\n\u001b[0m",
      "\u001b[1;32m<ipython-input-23-b55deda29cdc>\u001b[0m in \u001b[0;36mtrain_part5\u001b[1;34m(model_init_fn, optimizer_init_fn, num_epochs, decay_at, decay_to, experiment_name, restore, epoch_num)\u001b[0m\n\u001b[0;32m     72\u001b[0m             \u001b[1;32mfor\u001b[0m \u001b[0mx_np\u001b[0m\u001b[1;33m,\u001b[0m \u001b[0my_np\u001b[0m \u001b[1;32min\u001b[0m \u001b[0mtqdm_notebook\u001b[0m\u001b[1;33m(\u001b[0m\u001b[0mtrain_dset\u001b[0m\u001b[1;33m,\u001b[0m \u001b[0mleave\u001b[0m\u001b[1;33m=\u001b[0m\u001b[1;32mFalse\u001b[0m\u001b[1;33m)\u001b[0m\u001b[1;33m:\u001b[0m\u001b[1;33m\u001b[0m\u001b[0m\n\u001b[0;32m     73\u001b[0m                 \u001b[0mfeed_dict\u001b[0m \u001b[1;33m=\u001b[0m \u001b[1;33m{\u001b[0m\u001b[0mx\u001b[0m\u001b[1;33m:\u001b[0m \u001b[0mx_np\u001b[0m\u001b[1;33m,\u001b[0m \u001b[0my\u001b[0m\u001b[1;33m:\u001b[0m \u001b[0my_np\u001b[0m\u001b[1;33m,\u001b[0m \u001b[0mis_training\u001b[0m\u001b[1;33m:\u001b[0m \u001b[1;32mTrue\u001b[0m\u001b[1;33m}\u001b[0m\u001b[1;33m\u001b[0m\u001b[0m\n\u001b[1;32m---> 74\u001b[1;33m                 \u001b[0msummary\u001b[0m\u001b[1;33m,\u001b[0m \u001b[0mloss_np\u001b[0m\u001b[1;33m,\u001b[0m \u001b[0m_\u001b[0m \u001b[1;33m=\u001b[0m \u001b[0msess\u001b[0m\u001b[1;33m.\u001b[0m\u001b[0mrun\u001b[0m\u001b[1;33m(\u001b[0m\u001b[1;33m[\u001b[0m\u001b[0mmerged\u001b[0m\u001b[1;33m,\u001b[0m \u001b[0mloss\u001b[0m\u001b[1;33m,\u001b[0m \u001b[0mtrain_op\u001b[0m\u001b[1;33m]\u001b[0m\u001b[1;33m,\u001b[0m \u001b[0mfeed_dict\u001b[0m\u001b[1;33m=\u001b[0m\u001b[0mfeed_dict\u001b[0m\u001b[1;33m)\u001b[0m\u001b[1;33m\u001b[0m\u001b[0m\n\u001b[0m\u001b[0;32m     75\u001b[0m                 \u001b[0mtrain_writer\u001b[0m\u001b[1;33m.\u001b[0m\u001b[0madd_summary\u001b[0m\u001b[1;33m(\u001b[0m\u001b[0msummary\u001b[0m\u001b[1;33m,\u001b[0m \u001b[0mt\u001b[0m\u001b[1;33m)\u001b[0m\u001b[1;33m\u001b[0m\u001b[0m\n\u001b[0;32m     76\u001b[0m \u001b[1;33m\u001b[0m\u001b[0m\n",
      "\u001b[1;32m~\\Anaconda3\\lib\\site-packages\\tensorflow\\python\\client\\session.py\u001b[0m in \u001b[0;36mrun\u001b[1;34m(self, fetches, feed_dict, options, run_metadata)\u001b[0m\n\u001b[0;32m    885\u001b[0m     \u001b[1;32mtry\u001b[0m\u001b[1;33m:\u001b[0m\u001b[1;33m\u001b[0m\u001b[0m\n\u001b[0;32m    886\u001b[0m       result = self._run(None, fetches, feed_dict, options_ptr,\n\u001b[1;32m--> 887\u001b[1;33m                          run_metadata_ptr)\n\u001b[0m\u001b[0;32m    888\u001b[0m       \u001b[1;32mif\u001b[0m \u001b[0mrun_metadata\u001b[0m\u001b[1;33m:\u001b[0m\u001b[1;33m\u001b[0m\u001b[0m\n\u001b[0;32m    889\u001b[0m         \u001b[0mproto_data\u001b[0m \u001b[1;33m=\u001b[0m \u001b[0mtf_session\u001b[0m\u001b[1;33m.\u001b[0m\u001b[0mTF_GetBuffer\u001b[0m\u001b[1;33m(\u001b[0m\u001b[0mrun_metadata_ptr\u001b[0m\u001b[1;33m)\u001b[0m\u001b[1;33m\u001b[0m\u001b[0m\n",
      "\u001b[1;32m~\\Anaconda3\\lib\\site-packages\\tensorflow\\python\\client\\session.py\u001b[0m in \u001b[0;36m_run\u001b[1;34m(self, handle, fetches, feed_dict, options, run_metadata)\u001b[0m\n\u001b[0;32m   1108\u001b[0m     \u001b[1;32mif\u001b[0m \u001b[0mfinal_fetches\u001b[0m \u001b[1;32mor\u001b[0m \u001b[0mfinal_targets\u001b[0m \u001b[1;32mor\u001b[0m \u001b[1;33m(\u001b[0m\u001b[0mhandle\u001b[0m \u001b[1;32mand\u001b[0m \u001b[0mfeed_dict_tensor\u001b[0m\u001b[1;33m)\u001b[0m\u001b[1;33m:\u001b[0m\u001b[1;33m\u001b[0m\u001b[0m\n\u001b[0;32m   1109\u001b[0m       results = self._do_run(handle, final_targets, final_fetches,\n\u001b[1;32m-> 1110\u001b[1;33m                              feed_dict_tensor, options, run_metadata)\n\u001b[0m\u001b[0;32m   1111\u001b[0m     \u001b[1;32melse\u001b[0m\u001b[1;33m:\u001b[0m\u001b[1;33m\u001b[0m\u001b[0m\n\u001b[0;32m   1112\u001b[0m       \u001b[0mresults\u001b[0m \u001b[1;33m=\u001b[0m \u001b[1;33m[\u001b[0m\u001b[1;33m]\u001b[0m\u001b[1;33m\u001b[0m\u001b[0m\n",
      "\u001b[1;32m~\\Anaconda3\\lib\\site-packages\\tensorflow\\python\\client\\session.py\u001b[0m in \u001b[0;36m_do_run\u001b[1;34m(self, handle, target_list, fetch_list, feed_dict, options, run_metadata)\u001b[0m\n\u001b[0;32m   1284\u001b[0m     \u001b[1;32mif\u001b[0m \u001b[0mhandle\u001b[0m \u001b[1;32mis\u001b[0m \u001b[1;32mNone\u001b[0m\u001b[1;33m:\u001b[0m\u001b[1;33m\u001b[0m\u001b[0m\n\u001b[0;32m   1285\u001b[0m       return self._do_call(_run_fn, feeds, fetches, targets, options,\n\u001b[1;32m-> 1286\u001b[1;33m                            run_metadata)\n\u001b[0m\u001b[0;32m   1287\u001b[0m     \u001b[1;32melse\u001b[0m\u001b[1;33m:\u001b[0m\u001b[1;33m\u001b[0m\u001b[0m\n\u001b[0;32m   1288\u001b[0m       \u001b[1;32mreturn\u001b[0m \u001b[0mself\u001b[0m\u001b[1;33m.\u001b[0m\u001b[0m_do_call\u001b[0m\u001b[1;33m(\u001b[0m\u001b[0m_prun_fn\u001b[0m\u001b[1;33m,\u001b[0m \u001b[0mhandle\u001b[0m\u001b[1;33m,\u001b[0m \u001b[0mfeeds\u001b[0m\u001b[1;33m,\u001b[0m \u001b[0mfetches\u001b[0m\u001b[1;33m)\u001b[0m\u001b[1;33m\u001b[0m\u001b[0m\n",
      "\u001b[1;32m~\\Anaconda3\\lib\\site-packages\\tensorflow\\python\\client\\session.py\u001b[0m in \u001b[0;36m_do_call\u001b[1;34m(self, fn, *args)\u001b[0m\n\u001b[0;32m   1290\u001b[0m   \u001b[1;32mdef\u001b[0m \u001b[0m_do_call\u001b[0m\u001b[1;33m(\u001b[0m\u001b[0mself\u001b[0m\u001b[1;33m,\u001b[0m \u001b[0mfn\u001b[0m\u001b[1;33m,\u001b[0m \u001b[1;33m*\u001b[0m\u001b[0margs\u001b[0m\u001b[1;33m)\u001b[0m\u001b[1;33m:\u001b[0m\u001b[1;33m\u001b[0m\u001b[0m\n\u001b[0;32m   1291\u001b[0m     \u001b[1;32mtry\u001b[0m\u001b[1;33m:\u001b[0m\u001b[1;33m\u001b[0m\u001b[0m\n\u001b[1;32m-> 1292\u001b[1;33m       \u001b[1;32mreturn\u001b[0m \u001b[0mfn\u001b[0m\u001b[1;33m(\u001b[0m\u001b[1;33m*\u001b[0m\u001b[0margs\u001b[0m\u001b[1;33m)\u001b[0m\u001b[1;33m\u001b[0m\u001b[0m\n\u001b[0m\u001b[0;32m   1293\u001b[0m     \u001b[1;32mexcept\u001b[0m \u001b[0merrors\u001b[0m\u001b[1;33m.\u001b[0m\u001b[0mOpError\u001b[0m \u001b[1;32mas\u001b[0m \u001b[0me\u001b[0m\u001b[1;33m:\u001b[0m\u001b[1;33m\u001b[0m\u001b[0m\n\u001b[0;32m   1294\u001b[0m       \u001b[0mmessage\u001b[0m \u001b[1;33m=\u001b[0m \u001b[0mcompat\u001b[0m\u001b[1;33m.\u001b[0m\u001b[0mas_text\u001b[0m\u001b[1;33m(\u001b[0m\u001b[0me\u001b[0m\u001b[1;33m.\u001b[0m\u001b[0mmessage\u001b[0m\u001b[1;33m)\u001b[0m\u001b[1;33m\u001b[0m\u001b[0m\n",
      "\u001b[1;32m~\\Anaconda3\\lib\\site-packages\\tensorflow\\python\\client\\session.py\u001b[0m in \u001b[0;36m_run_fn\u001b[1;34m(feed_dict, fetch_list, target_list, options, run_metadata)\u001b[0m\n\u001b[0;32m   1275\u001b[0m       \u001b[0mself\u001b[0m\u001b[1;33m.\u001b[0m\u001b[0m_extend_graph\u001b[0m\u001b[1;33m(\u001b[0m\u001b[1;33m)\u001b[0m\u001b[1;33m\u001b[0m\u001b[0m\n\u001b[0;32m   1276\u001b[0m       return self._call_tf_sessionrun(\n\u001b[1;32m-> 1277\u001b[1;33m           options, feed_dict, fetch_list, target_list, run_metadata)\n\u001b[0m\u001b[0;32m   1278\u001b[0m \u001b[1;33m\u001b[0m\u001b[0m\n\u001b[0;32m   1279\u001b[0m     \u001b[1;32mdef\u001b[0m \u001b[0m_prun_fn\u001b[0m\u001b[1;33m(\u001b[0m\u001b[0mhandle\u001b[0m\u001b[1;33m,\u001b[0m \u001b[0mfeed_dict\u001b[0m\u001b[1;33m,\u001b[0m \u001b[0mfetch_list\u001b[0m\u001b[1;33m)\u001b[0m\u001b[1;33m:\u001b[0m\u001b[1;33m\u001b[0m\u001b[0m\n",
      "\u001b[1;32m~\\Anaconda3\\lib\\site-packages\\tensorflow\\python\\client\\session.py\u001b[0m in \u001b[0;36m_call_tf_sessionrun\u001b[1;34m(self, options, feed_dict, fetch_list, target_list, run_metadata)\u001b[0m\n\u001b[0;32m   1365\u001b[0m     return tf_session.TF_SessionRun_wrapper(\n\u001b[0;32m   1366\u001b[0m         \u001b[0mself\u001b[0m\u001b[1;33m.\u001b[0m\u001b[0m_session\u001b[0m\u001b[1;33m,\u001b[0m \u001b[0moptions\u001b[0m\u001b[1;33m,\u001b[0m \u001b[0mfeed_dict\u001b[0m\u001b[1;33m,\u001b[0m \u001b[0mfetch_list\u001b[0m\u001b[1;33m,\u001b[0m \u001b[0mtarget_list\u001b[0m\u001b[1;33m,\u001b[0m\u001b[1;33m\u001b[0m\u001b[0m\n\u001b[1;32m-> 1367\u001b[1;33m         run_metadata)\n\u001b[0m\u001b[0;32m   1368\u001b[0m \u001b[1;33m\u001b[0m\u001b[0m\n\u001b[0;32m   1369\u001b[0m   \u001b[1;32mdef\u001b[0m \u001b[0m_call_tf_sessionprun\u001b[0m\u001b[1;33m(\u001b[0m\u001b[0mself\u001b[0m\u001b[1;33m,\u001b[0m \u001b[0mhandle\u001b[0m\u001b[1;33m,\u001b[0m \u001b[0mfeed_dict\u001b[0m\u001b[1;33m,\u001b[0m \u001b[0mfetch_list\u001b[0m\u001b[1;33m)\u001b[0m\u001b[1;33m:\u001b[0m\u001b[1;33m\u001b[0m\u001b[0m\n",
      "\u001b[1;31mKeyboardInterrupt\u001b[0m: "
     ]
    }
   ],
   "source": [
    "num_epochs = 20\n",
    "total_layers = 20\n",
    "dropout_prob = 1\n",
    "learning_rate = 0.01\n",
    "reg = 0.0001\n",
    "decay_at=[2]\n",
    "decay_to=[0.1]\n",
    "print_every = 365\n",
    "\n",
    "name = (f\"CIFAR_ResNet{total_layers}_lr{learning_rate}\"\n",
    "            f\"_decay{decay_at}_{decay_to}_reg{reg}_momentum\")\n",
    "\n",
    "def model_init_fn(inputs, is_training, total_layers=total_layers, reg=reg):\n",
    "    return model_ResNetv2(inputs, is_training, total_layers=total_layers,\n",
    "                           dropout=dropout_prob, reg=reg)\n",
    "def optimizer_init_fn():\n",
    "    return tf.train.MomentumOptimizer(learning_rate=learning_rate, momentum=0.9)\n",
    "\n",
    "train_part5(model_init_fn, optimizer_init_fn, num_epochs, experiment_name=name, decay_at=decay_at, decay_to=decay_to)"
   ]
  }
 ],
 "metadata": {
  "kernelspec": {
   "display_name": "Python 3",
   "language": "python",
   "name": "python3"
  },
  "language_info": {
   "codemirror_mode": {
    "name": "ipython",
    "version": 3
   },
   "file_extension": ".py",
   "mimetype": "text/x-python",
   "name": "python",
   "nbconvert_exporter": "python",
   "pygments_lexer": "ipython3",
   "version": "3.6.6"
  }
 },
 "nbformat": 4,
 "nbformat_minor": 2
}
