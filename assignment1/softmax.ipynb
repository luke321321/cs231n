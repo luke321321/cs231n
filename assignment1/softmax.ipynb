{
 "cells": [
  {
   "cell_type": "markdown",
   "metadata": {},
   "source": [
    "# Softmax exercise\n",
    "\n",
    "*Complete and hand in this completed worksheet (including its outputs and any supporting code outside of the worksheet) with your assignment submission. For more details see the [assignments page](http://vision.stanford.edu/teaching/cs231n/assignments.html) on the course website.*\n",
    "\n",
    "This exercise is analogous to the SVM exercise. You will:\n",
    "\n",
    "- implement a fully-vectorized **loss function** for the Softmax classifier\n",
    "- implement the fully-vectorized expression for its **analytic gradient**\n",
    "- **check your implementation** with numerical gradient\n",
    "- use a validation set to **tune the learning rate and regularization** strength\n",
    "- **optimize** the loss function with **SGD**\n",
    "- **visualize** the final learned weights\n"
   ]
  },
  {
   "cell_type": "code",
   "execution_count": 1,
   "metadata": {},
   "outputs": [],
   "source": [
    "import random\n",
    "import numpy as np\n",
    "from cs231n.data_utils import load_CIFAR10\n",
    "import matplotlib.pyplot as plt\n",
    "\n",
    "from __future__ import print_function\n",
    "\n",
    "%matplotlib inline\n",
    "plt.rcParams['figure.figsize'] = (10.0, 8.0) # set default size of plots\n",
    "plt.rcParams['image.interpolation'] = 'nearest'\n",
    "plt.rcParams['image.cmap'] = 'gray'\n",
    "\n",
    "# for auto-reloading extenrnal modules\n",
    "# see http://stackoverflow.com/questions/1907993/autoreload-of-modules-in-ipython\n",
    "%load_ext autoreload\n",
    "%autoreload 2"
   ]
  },
  {
   "cell_type": "code",
   "execution_count": 2,
   "metadata": {},
   "outputs": [
    {
     "name": "stdout",
     "output_type": "stream",
     "text": [
      "Train data shape:  (49000, 3073)\n",
      "Train labels shape:  (49000,)\n",
      "Validation data shape:  (1000, 3073)\n",
      "Validation labels shape:  (1000,)\n",
      "Test data shape:  (1000, 3073)\n",
      "Test labels shape:  (1000,)\n",
      "dev data shape:  (500, 3073)\n",
      "dev labels shape:  (500,)\n"
     ]
    }
   ],
   "source": [
    "def get_CIFAR10_data(num_training=49000, num_validation=1000, num_test=1000, num_dev=500):\n",
    "    \"\"\"\n",
    "    Load the CIFAR-10 dataset from disk and perform preprocessing to prepare\n",
    "    it for the linear classifier. These are the same steps as we used for the\n",
    "    SVM, but condensed to a single function.  \n",
    "    \"\"\"\n",
    "    # Load the raw CIFAR-10 data\n",
    "    cifar10_dir = 'cs231n/datasets/cifar-10-batches-py'\n",
    "    \n",
    "    X_train, y_train, X_test, y_test = load_CIFAR10(cifar10_dir)\n",
    "    \n",
    "    # subsample the data\n",
    "    mask = list(range(num_training, num_training + num_validation))\n",
    "    X_val = X_train[mask]\n",
    "    y_val = y_train[mask]\n",
    "    mask = list(range(num_training))\n",
    "    X_train = X_train[mask]\n",
    "    y_train = y_train[mask]\n",
    "    mask = list(range(num_test))\n",
    "    X_test = X_test[mask]\n",
    "    y_test = y_test[mask]\n",
    "    mask = np.random.choice(num_training, num_dev, replace=False)\n",
    "    X_dev = X_train[mask]\n",
    "    y_dev = y_train[mask]\n",
    "    \n",
    "    # Preprocessing: reshape the image data into rows\n",
    "    X_train = np.reshape(X_train, (X_train.shape[0], -1))\n",
    "    X_val = np.reshape(X_val, (X_val.shape[0], -1))\n",
    "    X_test = np.reshape(X_test, (X_test.shape[0], -1))\n",
    "    X_dev = np.reshape(X_dev, (X_dev.shape[0], -1))\n",
    "    \n",
    "    # Normalize the data: subtract the mean image\n",
    "    mean_image = np.mean(X_train, axis = 0)\n",
    "    X_train -= mean_image\n",
    "    X_val -= mean_image\n",
    "    X_test -= mean_image\n",
    "    X_dev -= mean_image\n",
    "    \n",
    "    # add bias dimension and transform into columns\n",
    "    X_train = np.hstack([X_train, np.ones((X_train.shape[0], 1))])\n",
    "    X_val = np.hstack([X_val, np.ones((X_val.shape[0], 1))])\n",
    "    X_test = np.hstack([X_test, np.ones((X_test.shape[0], 1))])\n",
    "    X_dev = np.hstack([X_dev, np.ones((X_dev.shape[0], 1))])\n",
    "    \n",
    "    return X_train, y_train, X_val, y_val, X_test, y_test, X_dev, y_dev\n",
    "\n",
    "\n",
    "# Cleaning up variables to prevent loading data multiple times (which may cause memory issue)\n",
    "try:\n",
    "   del X_train, y_train\n",
    "   del X_test, y_test\n",
    "   print('Clear previously loaded data.')\n",
    "except:\n",
    "   pass\n",
    "\n",
    "# Invoke the above function to get our data.\n",
    "X_train, y_train, X_val, y_val, X_test, y_test, X_dev, y_dev = get_CIFAR10_data()\n",
    "print('Train data shape: ', X_train.shape)\n",
    "print('Train labels shape: ', y_train.shape)\n",
    "print('Validation data shape: ', X_val.shape)\n",
    "print('Validation labels shape: ', y_val.shape)\n",
    "print('Test data shape: ', X_test.shape)\n",
    "print('Test labels shape: ', y_test.shape)\n",
    "print('dev data shape: ', X_dev.shape)\n",
    "print('dev labels shape: ', y_dev.shape)"
   ]
  },
  {
   "cell_type": "markdown",
   "metadata": {},
   "source": [
    "## Softmax Classifier\n",
    "\n",
    "Your code for this section will all be written inside **cs231n/classifiers/softmax.py**. \n"
   ]
  },
  {
   "cell_type": "code",
   "execution_count": 7,
   "metadata": {},
   "outputs": [
    {
     "name": "stdout",
     "output_type": "stream",
     "text": [
      "loss: 2.401391\n",
      "sanity check: 2.302585\n"
     ]
    }
   ],
   "source": [
    "# First implement the naive softmax loss function with nested loops.\n",
    "# Open the file cs231n/classifiers/softmax.py and implement the\n",
    "# softmax_loss_naive function.\n",
    "\n",
    "from cs231n.classifiers.softmax import softmax_loss_naive\n",
    "import time\n",
    "\n",
    "# Generate a random softmax weight matrix and use it to compute the loss.\n",
    "W = np.random.randn(3073, 10) * 0.0001\n",
    "loss, grad = softmax_loss_naive(W, X_dev, y_dev, 0.0)\n",
    "\n",
    "# As a rough sanity check, our loss should be something close to -log(0.1).\n",
    "print('loss: %f' % loss)\n",
    "print('sanity check: %f' % (-np.log(0.1)))"
   ]
  },
  {
   "cell_type": "markdown",
   "metadata": {},
   "source": [
    "## Inline Question 1:\n",
    "Why do we expect our loss to be close to -log(0.1)? Explain briefly.**\n",
    "\n",
    "**Your answer:** *Fill this in*\n"
   ]
  },
  {
   "cell_type": "code",
   "execution_count": 12,
   "metadata": {},
   "outputs": [
    {
     "name": "stdout",
     "output_type": "stream",
     "text": [
      "numerical: 0.971652 analytic: 0.971652, relative error: 8.910777e-08\n",
      "numerical: -1.030125 analytic: -1.030125, relative error: 2.725523e-08\n",
      "numerical: 0.937467 analytic: 0.937467, relative error: 4.427990e-08\n",
      "numerical: 2.127186 analytic: 2.127186, relative error: 4.241232e-09\n",
      "numerical: -2.393834 analytic: -2.393834, relative error: 6.330130e-09\n",
      "numerical: -1.886797 analytic: -1.886797, relative error: 1.776879e-09\n",
      "numerical: -0.828633 analytic: -0.828633, relative error: 3.909738e-08\n",
      "numerical: 1.937360 analytic: 1.937360, relative error: 2.222692e-08\n",
      "numerical: -4.662959 analytic: -4.662959, relative error: 8.687359e-11\n",
      "numerical: 0.356658 analytic: 0.356657, relative error: 1.982040e-07\n",
      "numerical: -4.637798 analytic: -4.637798, relative error: 1.809667e-09\n",
      "numerical: 1.166599 analytic: 1.166599, relative error: 5.420803e-08\n",
      "numerical: -1.690642 analytic: -1.690642, relative error: 1.806989e-08\n",
      "numerical: -0.729416 analytic: -0.729416, relative error: 4.900176e-08\n",
      "numerical: 1.366599 analytic: 1.366598, relative error: 3.584771e-08\n",
      "numerical: 0.210864 analytic: 0.210864, relative error: 2.326487e-07\n",
      "numerical: 2.035001 analytic: 2.035001, relative error: 2.911051e-08\n",
      "numerical: -1.711381 analytic: -1.711381, relative error: 2.668758e-10\n",
      "numerical: 2.602890 analytic: 2.602890, relative error: 2.617600e-08\n",
      "numerical: 1.895968 analytic: 1.895968, relative error: 3.227268e-08\n"
     ]
    }
   ],
   "source": [
    "# Complete the implementation of softmax_loss_naive and implement a (naive)\n",
    "# version of the gradient that uses nested loops.\n",
    "loss, grad = softmax_loss_naive(W, X_dev, y_dev, 0.0)\n",
    "\n",
    "# As we did for the SVM, use numeric gradient checking as a debugging tool.\n",
    "# The numeric gradient should be close to the analytic gradient.\n",
    "from cs231n.gradient_check import grad_check_sparse\n",
    "f = lambda w: softmax_loss_naive(w, X_dev, y_dev, 0.0)[0]\n",
    "grad_numerical = grad_check_sparse(f, W, grad, 10)\n",
    "\n",
    "# similar to SVM case, do another gradient check with regularization\n",
    "loss, grad = softmax_loss_naive(W, X_dev, y_dev, 5e1)\n",
    "f = lambda w: softmax_loss_naive(w, X_dev, y_dev, 5e1)[0]\n",
    "grad_numerical = grad_check_sparse(f, W, grad, 10)"
   ]
  },
  {
   "cell_type": "code",
   "execution_count": 18,
   "metadata": {},
   "outputs": [
    {
     "name": "stdout",
     "output_type": "stream",
     "text": [
      "naive loss: 2.401391e+00 computed in 0.109666s\n",
      "vectorized loss: 2.401391e+00 computed in 0.001996s\n",
      "Loss difference: 0.000000\n",
      "Gradient difference: 0.000000\n"
     ]
    }
   ],
   "source": [
    "# Now that we have a naive implementation of the softmax loss function and its gradient,\n",
    "# implement a vectorized version in softmax_loss_vectorized.\n",
    "# The two versions should compute the same results, but the vectorized version should be\n",
    "# much faster.\n",
    "tic = time.time()\n",
    "loss_naive, grad_naive = softmax_loss_naive(W, X_dev, y_dev, 0.000005)\n",
    "toc = time.time()\n",
    "print('naive loss: %e computed in %fs' % (loss_naive, toc - tic))\n",
    "\n",
    "from cs231n.classifiers.softmax import softmax_loss_vectorized\n",
    "tic = time.time()\n",
    "loss_vectorized, grad_vectorized = softmax_loss_vectorized(W, X_dev, y_dev, 0.000005)\n",
    "toc = time.time()\n",
    "print('vectorized loss: %e computed in %fs' % (loss_vectorized, toc - tic))\n",
    "\n",
    "# As we did for the SVM, we use the Frobenius norm to compare the two versions\n",
    "# of the gradient.\n",
    "grad_difference = np.linalg.norm(grad_naive - grad_vectorized, ord='fro')\n",
    "print('Loss difference: %f' % np.abs(loss_naive - loss_vectorized))\n",
    "print('Gradient difference: %f' % grad_difference)"
   ]
  },
  {
   "cell_type": "code",
   "execution_count": 22,
   "metadata": {},
   "outputs": [
    {
     "name": "stdout",
     "output_type": "stream",
     "text": [
      "lr 1.000000e-08 reg 5.000000e+02 train accuracy: 0.158061 val accuracy: 0.154000\n",
      "lr 1.000000e-08 reg 6.000000e+03 train accuracy: 0.160429 val accuracy: 0.169000\n",
      "lr 1.000000e-08 reg 1.150000e+04 train accuracy: 0.152551 val accuracy: 0.152000\n",
      "lr 1.000000e-08 reg 1.700000e+04 train accuracy: 0.169857 val accuracy: 0.190000\n",
      "lr 1.000000e-08 reg 2.250000e+04 train accuracy: 0.175796 val accuracy: 0.173000\n",
      "lr 1.000000e-08 reg 2.800000e+04 train accuracy: 0.174878 val accuracy: 0.171000\n",
      "lr 1.000000e-08 reg 3.350000e+04 train accuracy: 0.185429 val accuracy: 0.191000\n",
      "lr 1.000000e-08 reg 3.900000e+04 train accuracy: 0.195000 val accuracy: 0.185000\n",
      "lr 1.000000e-08 reg 4.450000e+04 train accuracy: 0.196143 val accuracy: 0.193000\n",
      "lr 1.000000e-08 reg 5.000000e+04 train accuracy: 0.204041 val accuracy: 0.199000\n",
      "lr 1.668101e-08 reg 5.000000e+02 train accuracy: 0.177367 val accuracy: 0.200000\n",
      "lr 1.668101e-08 reg 6.000000e+03 train accuracy: 0.188939 val accuracy: 0.193000\n",
      "lr 1.668101e-08 reg 1.150000e+04 train accuracy: 0.197429 val accuracy: 0.198000\n",
      "lr 1.668101e-08 reg 1.700000e+04 train accuracy: 0.193755 val accuracy: 0.192000\n",
      "lr 1.668101e-08 reg 2.250000e+04 train accuracy: 0.220429 val accuracy: 0.228000\n",
      "lr 1.668101e-08 reg 2.800000e+04 train accuracy: 0.230408 val accuracy: 0.227000\n",
      "lr 1.668101e-08 reg 3.350000e+04 train accuracy: 0.239571 val accuracy: 0.249000\n",
      "lr 1.668101e-08 reg 3.900000e+04 train accuracy: 0.251265 val accuracy: 0.264000\n",
      "lr 1.668101e-08 reg 4.450000e+04 train accuracy: 0.264429 val accuracy: 0.268000\n",
      "lr 1.668101e-08 reg 5.000000e+04 train accuracy: 0.274000 val accuracy: 0.289000\n",
      "lr 2.782559e-08 reg 5.000000e+02 train accuracy: 0.194939 val accuracy: 0.196000\n",
      "lr 2.782559e-08 reg 6.000000e+03 train accuracy: 0.211531 val accuracy: 0.221000\n",
      "lr 2.782559e-08 reg 1.150000e+04 train accuracy: 0.227959 val accuracy: 0.223000\n",
      "lr 2.782559e-08 reg 1.700000e+04 train accuracy: 0.259755 val accuracy: 0.263000\n",
      "lr 2.782559e-08 reg 2.250000e+04 train accuracy: 0.281265 val accuracy: 0.277000\n",
      "lr 2.782559e-08 reg 2.800000e+04 train accuracy: 0.295857 val accuracy: 0.299000\n",
      "lr 2.782559e-08 reg 3.350000e+04 train accuracy: 0.308796 val accuracy: 0.313000\n",
      "lr 2.782559e-08 reg 3.900000e+04 train accuracy: 0.308347 val accuracy: 0.320000\n",
      "lr 2.782559e-08 reg 4.450000e+04 train accuracy: 0.307143 val accuracy: 0.321000\n",
      "lr 2.782559e-08 reg 5.000000e+04 train accuracy: 0.301429 val accuracy: 0.318000\n",
      "lr 4.641589e-08 reg 5.000000e+02 train accuracy: 0.221551 val accuracy: 0.231000\n",
      "lr 4.641589e-08 reg 6.000000e+03 train accuracy: 0.252755 val accuracy: 0.258000\n",
      "lr 4.641589e-08 reg 1.150000e+04 train accuracy: 0.294224 val accuracy: 0.293000\n",
      "lr 4.641589e-08 reg 1.700000e+04 train accuracy: 0.320102 val accuracy: 0.331000\n",
      "lr 4.641589e-08 reg 2.250000e+04 train accuracy: 0.324857 val accuracy: 0.338000\n",
      "lr 4.641589e-08 reg 2.800000e+04 train accuracy: 0.322776 val accuracy: 0.334000\n",
      "lr 4.641589e-08 reg 3.350000e+04 train accuracy: 0.322408 val accuracy: 0.328000\n",
      "lr 4.641589e-08 reg 3.900000e+04 train accuracy: 0.316020 val accuracy: 0.334000\n",
      "lr 4.641589e-08 reg 4.450000e+04 train accuracy: 0.308510 val accuracy: 0.331000\n",
      "lr 4.641589e-08 reg 5.000000e+04 train accuracy: 0.307857 val accuracy: 0.326000\n",
      "lr 7.742637e-08 reg 5.000000e+02 train accuracy: 0.245449 val accuracy: 0.224000\n",
      "lr 7.742637e-08 reg 6.000000e+03 train accuracy: 0.314143 val accuracy: 0.328000\n",
      "lr 7.742637e-08 reg 1.150000e+04 train accuracy: 0.343490 val accuracy: 0.356000\n",
      "lr 7.742637e-08 reg 1.700000e+04 train accuracy: 0.342531 val accuracy: 0.353000\n",
      "lr 7.742637e-08 reg 2.250000e+04 train accuracy: 0.334531 val accuracy: 0.346000\n",
      "lr 7.742637e-08 reg 2.800000e+04 train accuracy: 0.326327 val accuracy: 0.331000\n",
      "lr 7.742637e-08 reg 3.350000e+04 train accuracy: 0.323082 val accuracy: 0.336000\n",
      "lr 7.742637e-08 reg 3.900000e+04 train accuracy: 0.315020 val accuracy: 0.335000\n",
      "lr 7.742637e-08 reg 4.450000e+04 train accuracy: 0.309592 val accuracy: 0.326000\n",
      "lr 7.742637e-08 reg 5.000000e+04 train accuracy: 0.304306 val accuracy: 0.327000\n",
      "lr 1.291550e-07 reg 5.000000e+02 train accuracy: 0.278184 val accuracy: 0.284000\n",
      "lr 1.291550e-07 reg 6.000000e+03 train accuracy: 0.359980 val accuracy: 0.362000\n",
      "lr 1.291550e-07 reg 1.150000e+04 train accuracy: 0.353510 val accuracy: 0.365000\n",
      "lr 1.291550e-07 reg 1.700000e+04 train accuracy: 0.340735 val accuracy: 0.350000\n",
      "lr 1.291550e-07 reg 2.250000e+04 train accuracy: 0.331408 val accuracy: 0.343000\n",
      "lr 1.291550e-07 reg 2.800000e+04 train accuracy: 0.329714 val accuracy: 0.342000\n",
      "lr 1.291550e-07 reg 3.350000e+04 train accuracy: 0.318041 val accuracy: 0.335000\n",
      "lr 1.291550e-07 reg 3.900000e+04 train accuracy: 0.320061 val accuracy: 0.329000\n",
      "lr 1.291550e-07 reg 4.450000e+04 train accuracy: 0.315776 val accuracy: 0.333000\n",
      "lr 1.291550e-07 reg 5.000000e+04 train accuracy: 0.311551 val accuracy: 0.327000\n",
      "lr 2.154435e-07 reg 5.000000e+02 train accuracy: 0.301571 val accuracy: 0.312000\n",
      "lr 2.154435e-07 reg 6.000000e+03 train accuracy: 0.369714 val accuracy: 0.388000\n",
      "lr 2.154435e-07 reg 1.150000e+04 train accuracy: 0.356204 val accuracy: 0.369000\n",
      "lr 2.154435e-07 reg 1.700000e+04 train accuracy: 0.340367 val accuracy: 0.352000\n",
      "lr 2.154435e-07 reg 2.250000e+04 train accuracy: 0.326980 val accuracy: 0.342000\n",
      "lr 2.154435e-07 reg 2.800000e+04 train accuracy: 0.320429 val accuracy: 0.339000\n",
      "lr 2.154435e-07 reg 3.350000e+04 train accuracy: 0.322429 val accuracy: 0.334000\n",
      "lr 2.154435e-07 reg 3.900000e+04 train accuracy: 0.314429 val accuracy: 0.329000\n",
      "lr 2.154435e-07 reg 4.450000e+04 train accuracy: 0.310776 val accuracy: 0.323000\n",
      "lr 2.154435e-07 reg 5.000000e+04 train accuracy: 0.304000 val accuracy: 0.317000\n",
      "lr 3.593814e-07 reg 5.000000e+02 train accuracy: 0.338388 val accuracy: 0.366000\n",
      "lr 3.593814e-07 reg 6.000000e+03 train accuracy: 0.368898 val accuracy: 0.372000\n",
      "lr 3.593814e-07 reg 1.150000e+04 train accuracy: 0.349265 val accuracy: 0.368000\n",
      "lr 3.593814e-07 reg 1.700000e+04 train accuracy: 0.340347 val accuracy: 0.358000\n",
      "lr 3.593814e-07 reg 2.250000e+04 train accuracy: 0.331673 val accuracy: 0.358000\n",
      "lr 3.593814e-07 reg 2.800000e+04 train accuracy: 0.331122 val accuracy: 0.341000\n",
      "lr 3.593814e-07 reg 3.350000e+04 train accuracy: 0.316388 val accuracy: 0.321000\n",
      "lr 3.593814e-07 reg 3.900000e+04 train accuracy: 0.307224 val accuracy: 0.311000\n",
      "lr 3.593814e-07 reg 4.450000e+04 train accuracy: 0.306918 val accuracy: 0.312000\n",
      "lr 3.593814e-07 reg 5.000000e+04 train accuracy: 0.306612 val accuracy: 0.315000\n",
      "lr 5.994843e-07 reg 5.000000e+02 train accuracy: 0.373449 val accuracy: 0.372000\n",
      "lr 5.994843e-07 reg 6.000000e+03 train accuracy: 0.366898 val accuracy: 0.386000\n",
      "lr 5.994843e-07 reg 1.150000e+04 train accuracy: 0.344531 val accuracy: 0.360000\n",
      "lr 5.994843e-07 reg 1.700000e+04 train accuracy: 0.330551 val accuracy: 0.344000\n",
      "lr 5.994843e-07 reg 2.250000e+04 train accuracy: 0.326796 val accuracy: 0.337000\n",
      "lr 5.994843e-07 reg 2.800000e+04 train accuracy: 0.312755 val accuracy: 0.330000\n",
      "lr 5.994843e-07 reg 3.350000e+04 train accuracy: 0.315388 val accuracy: 0.338000\n",
      "lr 5.994843e-07 reg 3.900000e+04 train accuracy: 0.307367 val accuracy: 0.321000\n",
      "lr 5.994843e-07 reg 4.450000e+04 train accuracy: 0.306490 val accuracy: 0.313000\n",
      "lr 5.994843e-07 reg 5.000000e+04 train accuracy: 0.297429 val accuracy: 0.319000\n",
      "lr 1.000000e-06 reg 5.000000e+02 train accuracy: 0.403531 val accuracy: 0.410000\n",
      "lr 1.000000e-06 reg 6.000000e+03 train accuracy: 0.362184 val accuracy: 0.376000\n",
      "lr 1.000000e-06 reg 1.150000e+04 train accuracy: 0.349388 val accuracy: 0.344000\n",
      "lr 1.000000e-06 reg 1.700000e+04 train accuracy: 0.334327 val accuracy: 0.337000\n",
      "lr 1.000000e-06 reg 2.250000e+04 train accuracy: 0.319939 val accuracy: 0.337000\n",
      "lr 1.000000e-06 reg 2.800000e+04 train accuracy: 0.317592 val accuracy: 0.318000\n",
      "lr 1.000000e-06 reg 3.350000e+04 train accuracy: 0.314592 val accuracy: 0.328000\n",
      "lr 1.000000e-06 reg 3.900000e+04 train accuracy: 0.293776 val accuracy: 0.309000\n",
      "lr 1.000000e-06 reg 4.450000e+04 train accuracy: 0.272429 val accuracy: 0.270000\n",
      "lr 1.000000e-06 reg 5.000000e+04 train accuracy: 0.290041 val accuracy: 0.299000\n",
      "best validation accuracy achieved during cross-validation: 0.410000\n"
     ]
    }
   ],
   "source": [
    "# Use the validation set to tune hyperparameters (regularization strength and\n",
    "# learning rate). You should experiment with different ranges for the learning\n",
    "# rates and regularization strengths; if you are careful you should be able to\n",
    "# get a classification accuracy of over 0.35 on the validation set.\n",
    "from cs231n.classifiers import Softmax\n",
    "results = {}\n",
    "best_val = -1\n",
    "best_softmax = None\n",
    "learning_rates = [1e-8, 1e-6]\n",
    "regularization_strengths = [5e2, 5e4]\n",
    "\n",
    "################################################################################\n",
    "# TODO:                                                                        #\n",
    "# Use the validation set to set the learning rate and regularization strength. #\n",
    "# This should be identical to the validation that you did for the SVM; save    #\n",
    "# the best trained softmax classifer in best_softmax.                          #\n",
    "################################################################################\n",
    "import itertools\n",
    "\n",
    "softmax = Softmax()\n",
    "\n",
    "learn_set = np.logspace(np.log10(learning_rates[0]), np.log10(learning_rates[1]), num=10)\n",
    "regularization_set = np.linspace(regularization_strengths[0], regularization_strengths[1], num=10)\n",
    "\n",
    "for lr, reg in itertools.product(learn_set, regularization_set):\n",
    "    #reset weights\n",
    "    softmax.W = None\n",
    "    \n",
    "    #train and predict\n",
    "    softmax.train(X_train, y_train, learning_rate=lr, reg=reg, num_iters=1500)\n",
    "    y_train_pred = softmax.predict(X_train)\n",
    "    train_acc = np.mean(y_train == y_train_pred)\n",
    "    y_val_pred = softmax.predict(X_val)\n",
    "    val_acc = np.mean(y_val == y_val_pred)\n",
    "    \n",
    "    #store data\n",
    "    results[(lr, reg)] = (train_acc, val_acc)\n",
    "    if val_acc > best_val:\n",
    "        best_val = val_acc\n",
    "        best_softmax = Softmax()\n",
    "        best_softmax.W = softmax.W\n",
    "################################################################################\n",
    "#                              END OF YOUR CODE                                #\n",
    "################################################################################\n",
    "    \n",
    "# Print out results.\n",
    "for lr, reg in sorted(results):\n",
    "    train_accuracy, val_accuracy = results[(lr, reg)]\n",
    "    print('lr %e reg %e train accuracy: %f val accuracy: %f' % (\n",
    "                lr, reg, train_accuracy, val_accuracy))\n",
    "    \n",
    "print('best validation accuracy achieved during cross-validation: %f' % best_val)"
   ]
  },
  {
   "cell_type": "code",
   "execution_count": 21,
   "metadata": {},
   "outputs": [
    {
     "name": "stdout",
     "output_type": "stream",
     "text": [
      "softmax on raw pixels final test set accuracy: 0.390000\n"
     ]
    }
   ],
   "source": [
    "# evaluate on test set\n",
    "# Evaluate the best softmax on test set\n",
    "y_test_pred = best_softmax.predict(X_test)\n",
    "test_accuracy = np.mean(y_test == y_test_pred)\n",
    "print('softmax on raw pixels final test set accuracy: %f' % (test_accuracy, ))"
   ]
  },
  {
   "cell_type": "markdown",
   "metadata": {},
   "source": [
    "**Inline Question** - *True or False*\n",
    "\n",
    "It's possible to add a new datapoint to a training set that would leave the SVM loss unchanged, but this is not the case with the Softmax classifier loss.\n",
    "\n",
    "*Your answer*: True\n",
    "\n",
    "*Your explanation*: Softmax classifier loss is a global function and so depends on all datapoints.  SVM is a local function and so if we add a point far enough away it won't contribute to its loss."
   ]
  },
  {
   "cell_type": "code",
   "execution_count": 23,
   "metadata": {},
   "outputs": [
    {
     "data": {
      "image/png": "[encoded data removed]",
      "text/plain": [
       "<Figure size 432x288 with 10 Axes>"
      ]
     },
     "metadata": {
      "needs_background": "light"
     },
     "output_type": "display_data"
    }
   ],
   "source": [
    "# Visualize the learned weights for each class\n",
    "w = best_softmax.W[:-1,:] # strip out the bias\n",
    "w = w.reshape(32, 32, 3, 10)\n",
    "\n",
    "w_min, w_max = np.min(w), np.max(w)\n",
    "\n",
    "classes = ['plane', 'car', 'bird', 'cat', 'deer', 'dog', 'frog', 'horse', 'ship', 'truck']\n",
    "for i in range(10):\n",
    "    plt.subplot(2, 5, i + 1)\n",
    "    \n",
    "    # Rescale the weights to be between 0 and 255\n",
    "    wimg = 255.0 * (w[:, :, :, i].squeeze() - w_min) / (w_max - w_min)\n",
    "    plt.imshow(wimg.astype('uint8'))\n",
    "    plt.axis('off')\n",
    "    plt.title(classes[i])"
   ]
  }
 ],
 "metadata": {
  "kernelspec": {
   "display_name": "Python 3",
   "language": "python",
   "name": "python3"
  },
  "language_info": {
   "codemirror_mode": {
    "name": "ipython",
    "version": 3
   },
   "file_extension": ".py",
   "mimetype": "text/x-python",
   "name": "python",
   "nbconvert_exporter": "python",
   "pygments_lexer": "ipython3",
   "version": "3.6.6"
  },
  "widgets": {
   "application/vnd.jupyter.widget-state+json": {
    "state": {},
    "version_major": 2,
    "version_minor": 0
   }
  }
 },
 "nbformat": 4,
 "nbformat_minor": 1
}
